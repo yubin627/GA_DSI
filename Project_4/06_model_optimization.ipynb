{
 "cells": [
  {
   "cell_type": "markdown",
   "metadata": {},
   "source": [
    "# Contents\n",
    "- [Imports](#imports)\n",
    "    - [Libraries](#lib)\n",
    "    - [GridSearch](#impgrid)\n",
    "    - [Data](#data)\n",
    "- [GridSearch](#grid)\n",
    "- [Holdout Testing](#holdout1)\n",
    "- [Model Visualizations](#vis)\n",
    "    - [ROC curve](#roc)\n",
    "    - [Precision Recall Curve](#prc)\n",
    "- [Model Optimization for Kaggle](#kaggle)\n",
    "- [Holdout Testing 2](#holdout2)\n",
    "- [Prediction on Test Data](#pred)"
   ]
  },
  {
   "cell_type": "markdown",
   "metadata": {},
   "source": [
    "---\n",
    "# Imports<a id=imports></a>\n",
    "## Import Libraries <a id=lib></a>"
   ]
  },
  {
   "cell_type": "code",
   "execution_count": 93,
   "metadata": {},
   "outputs": [],
   "source": [
    "import numpy as np\n",
    "import pandas as pd\n",
    "import matplotlib.pyplot as plt\n",
    "from inspect import signature\n",
    "from itertools import cycle\n",
    "\n",
    "from sklearn.model_selection import train_test_split\n",
    "from sklearn.preprocessing import StandardScaler\n",
    "from sklearn.neighbors import KNeighborsClassifier\n",
    "from sklearn.linear_model import LogisticRegression\n",
    "from sklearn.naive_bayes import MultinomialNB, GaussianNB\n",
    "from sklearn.tree import DecisionTreeClassifier\n",
    "from sklearn.ensemble import RandomForestClassifier\n",
    "from sklearn.ensemble import BaggingClassifier\n",
    "from sklearn.ensemble import ExtraTreesClassifier\n",
    "from sklearn.ensemble import AdaBoostClassifier\n",
    "from sklearn.ensemble import GradientBoostingClassifier\n",
    "from sklearn.svm import SVC\n",
    "from sklearn.model_selection import GridSearchCV\n",
    "from sklearn.metrics import recall_score, make_scorer, roc_curve, classification_report, precision_recall_curve, roc_auc_score\n",
    "\n",
    "import xgboost as xgb\n",
    "from xgboost import XGBClassifier\n",
    "\n",
    "from imblearn.over_sampling import SMOTE\n",
    "\n"
   ]
  },
  {
   "cell_type": "markdown",
   "metadata": {},
   "source": [
    "# Gridsearch Best Estimators and Parameters<a id=impgrid></a>\n",
    "These are the stored estimators and parameters for our gridsearch modelling."
   ]
  },
  {
   "cell_type": "code",
   "execution_count": 2,
   "metadata": {},
   "outputs": [],
   "source": [
    "#code found from http://www.davidsbatista.net/blog/2018/02/23/model_optimization/\n",
    "class EstimatorSelectionHelper:\n",
    "\n",
    "    def __init__(self, models, params):\n",
    "        if not set(models.keys()).issubset(set(params.keys())):\n",
    "            missing_params = list(set(models.keys()) - set(params.keys()))\n",
    "            raise ValueError(\"Some estimators are missing parameters: %s\" % missing_params)\n",
    "        self.models = models\n",
    "        self.params = params\n",
    "        self.keys = models.keys()\n",
    "        self.grid_searches = {}\n",
    "\n",
    "    def fit(self, X, y, cv=3, n_jobs=-1, verbose=1, scoring=None, refit=False):\n",
    "        for key in self.keys:\n",
    "            print(\"Running GridSearchCV for %s.\" % key)\n",
    "            model = self.models[key]\n",
    "            params = self.params[key]\n",
    "            gs = GridSearchCV(model, params, cv=cv, n_jobs=n_jobs,\n",
    "                              verbose=verbose, scoring=scoring, refit=refit,\n",
    "                              return_train_score=True)\n",
    "            gs.fit(X,y)\n",
    "            self.grid_searches[key] = gs    \n",
    "\n",
    "    def score_summary(self, sort_by='mean_score'):\n",
    "        def row(key, scores, params):\n",
    "            d = {\n",
    "                 'estimator': key,\n",
    "                 'min_score': min(scores),\n",
    "                 'max_score': max(scores),\n",
    "                 'mean_score': np.mean(scores),\n",
    "                 'std_score': np.std(scores),\n",
    "            }\n",
    "            return pd.Series({**params,**d})\n",
    "\n",
    "        rows = []\n",
    "        for k in self.grid_searches:\n",
    "            print(k)\n",
    "            params = self.grid_searches[k].cv_results_['params']\n",
    "            scores = []\n",
    "            for i in range(self.grid_searches[k].cv):\n",
    "                key = \"split{}_test_score\".format(i)\n",
    "                r = self.grid_searches[k].cv_results_[key]        \n",
    "                scores.append(r.reshape(len(params),1))\n",
    "\n",
    "            all_scores = np.hstack(scores)\n",
    "            for p, s in zip(params,all_scores):\n",
    "                rows.append((row(k, s, p)))\n",
    "\n",
    "        df = pd.concat(rows, axis=1).T.sort_values([sort_by], ascending=False)\n",
    "\n",
    "        columns = ['estimator', 'min_score', 'mean_score', 'max_score', 'std_score']\n",
    "        columns = columns + [c for c in df.columns if c not in columns]\n",
    "\n",
    "        return df[columns]\n"
   ]
  },
  {
   "cell_type": "code",
   "execution_count": 3,
   "metadata": {},
   "outputs": [],
   "source": [
    "classifier_model_params = {\n",
    "    'LogisticRegression' : {\n",
    "        'penalty' : ['l1', 'l2'],\n",
    "        'C' : np.arange(.05, 1, .05) },\n",
    "    'VanillaLogRegression' : {\n",
    "    },\n",
    "    'KNN' : {\n",
    "        'n_neighbors' : np.arange(3, 22, 2) },\n",
    "    'NaiveBayes' : {\n",
    "        'alpha' : np.arange(.05, 2, .05)},\n",
    "    'DecisionTree': {\n",
    "        'max_depth' : [None, 6, 10, 14], \n",
    "        'min_samples_leaf' : [1, 2],\n",
    "        'min_samples_split': [2, 3] },\n",
    "    'BaggedDecisionTree' : {\n",
    "        'n_estimators' : [20, 60, 100] },\n",
    "    'RandomForest' : {\n",
    "        'n_estimators' : [20, 60, 100],\n",
    "        'max_depth' : [None, 2, 6, 10],\n",
    "        'min_samples_split' : [2, 3, 4] },\n",
    "    'ExtraTrees' : {\n",
    "        'n_estimators' : [20, 60, 100],\n",
    "        'max_depth' : [None, 6, 10, 14],\n",
    "        'min_samples_leaf' : [1, 2], \n",
    "        'min_samples_split' : [2, 3], },\n",
    "    'AdaBoost' : {\n",
    "        'n_estimators' : np.arange(100, 151, 25),\n",
    "        'learning_rate' : np.linspace(0.05, 1, 10) },\n",
    "    'GradientBoosting' : {\n",
    "        'n_estimators' : np.arange(5, 150, 15),\n",
    "        'learning_rate' : np.linspace(0.05, 1, 10),\n",
    "        'max_depth' : [1, 2, 3] },\n",
    "    'SVM' : {\n",
    "        'C' : np.arange(0.05, 1, .05),\n",
    "        'kernel' : ['rbf', 'linear'] },\n",
    "     'XGBoost' : {\n",
    "        'n_estimators'  : np.arange(100, 151, 25), \n",
    "        'learning_rate' : np.arange(0.1, 1, .3),\n",
    "        'max_depth' : [3],\n",
    "        'alpha' : np.arange(0, 1, .3),\n",
    "        'lambda' : np.arange(0, 1, .3),\n",
    "        'gamma' : np.arange(0, 1, .3),\n",
    "        'subsample' : [.5],\n",
    "        'n_jobs' : [4],}\n",
    "        }"
   ]
  },
  {
   "cell_type": "code",
   "execution_count": 5,
   "metadata": {},
   "outputs": [],
   "source": [
    "classifier_models = {\n",
    "    'LogisticRegression' : LogisticRegression(random_state = 42),\n",
    "    'VanillaLogRegression' : LogisticRegression(random_state = 42),\n",
    "    'KNN': KNeighborsClassifier(), \n",
    "#     'NaiveBayes' : MultinomialNB(), #does not work with negative vals\n",
    "    'DecisionTree' : DecisionTreeClassifier(random_state = 42), \n",
    "    'BaggedDecisionTree' : BaggingClassifier(random_state = 42),\n",
    "    'RandomForest' : RandomForestClassifier(random_state = 42), \n",
    "    'ExtraTrees' : ExtraTreesClassifier(random_state = 42), \n",
    "    'AdaBoost' : AdaBoostClassifier(random_state=42), \n",
    "    'GradientBoosting' : GradientBoostingClassifier(random_state = 42),\n",
    "    'SVM' : SVC(random_state=42),\n",
    "    'XGBoost' : XGBClassifier(random_state=42)\n",
    "}"
   ]
  },
  {
   "cell_type": "markdown",
   "metadata": {},
   "source": [
    "## Import Data and Process<a id=data></a>"
   ]
  },
  {
   "cell_type": "code",
   "execution_count": 94,
   "metadata": {},
   "outputs": [],
   "source": [
    "scaler = StandardScaler()\n",
    "sm = SMOTE(sampling_strategy=1,random_state=666)\n",
    "\n",
    "train = pd.read_csv('./data/train_weather.csv')\n",
    "train['month']=train['month'].astype(str)\n",
    "train_dummies = pd.get_dummies(train,drop_first=True,columns=['month','Species','Street']).astype('float64')\n",
    "y = train_dummies['WnvPresent']\n",
    "X = train_dummies[[col for col in train_dummies.columns if col != 'WnvPresent']]\n",
    "\n",
    "train_x, test_x, train_y, test_y = train_test_split(X,y,test_size = 0.3, random_state = 666,stratify=y)\n",
    "train_x=scaler.fit_transform(train_x)\n",
    "test_x=scaler.transform(test_x)\n",
    "sampledX,sampledy = sm.fit_sample(train_x,train_y)"
   ]
  },
  {
   "cell_type": "markdown",
   "metadata": {},
   "source": [
    "---\n",
    "# GridSearch<a id=grid></a>\n",
    "We run our GridSearch while setting our scoring method to recall.<br/>\n",
    "In the prediction of the West Nile virus, it is in our interest to maximize our true positives, as such we choose our scoring to be on recall."
   ]
  },
  {
   "cell_type": "code",
   "execution_count": 71,
   "metadata": {},
   "outputs": [
    {
     "name": "stdout",
     "output_type": "stream",
     "text": [
      "Running GridSearchCV for LogisticRegression.\n",
      "Fitting 3 folds for each of 38 candidates, totalling 114 fits\n"
     ]
    },
    {
     "name": "stderr",
     "output_type": "stream",
     "text": [
      "[Parallel(n_jobs=3)]: Using backend LokyBackend with 3 concurrent workers.\n",
      "[Parallel(n_jobs=3)]: Done  44 tasks      | elapsed:   57.9s\n",
      "[Parallel(n_jobs=3)]: Done 114 out of 114 | elapsed:  2.6min finished\n",
      "[Parallel(n_jobs=3)]: Using backend LokyBackend with 3 concurrent workers.\n"
     ]
    },
    {
     "name": "stdout",
     "output_type": "stream",
     "text": [
      "Running GridSearchCV for VanillaLogRegression.\n",
      "Fitting 3 folds for each of 1 candidates, totalling 3 fits\n"
     ]
    },
    {
     "name": "stderr",
     "output_type": "stream",
     "text": [
      "[Parallel(n_jobs=3)]: Done   3 out of   3 | elapsed:    2.0s finished\n",
      "[Parallel(n_jobs=3)]: Using backend LokyBackend with 3 concurrent workers.\n"
     ]
    },
    {
     "name": "stdout",
     "output_type": "stream",
     "text": [
      "Running GridSearchCV for KNN.\n",
      "Fitting 3 folds for each of 10 candidates, totalling 30 fits\n"
     ]
    },
    {
     "name": "stderr",
     "output_type": "stream",
     "text": [
      "[Parallel(n_jobs=3)]: Done  30 out of  30 | elapsed:  5.7min finished\n"
     ]
    }
   ],
   "source": [
    "rec=make_scorer(recall_score,average='binary',pos_label=1)\n",
    "search = EstimatorSelectionHelper(classifier_models, classifier_model_params)\n",
    "search.fit(sampledX,sampledy, scoring=rec, n_jobs=3)"
   ]
  },
  {
   "cell_type": "markdown",
   "metadata": {},
   "source": [
    "We store our model scores into a dataframe"
   ]
  },
  {
   "cell_type": "code",
   "execution_count": 73,
   "metadata": {},
   "outputs": [
    {
     "name": "stdout",
     "output_type": "stream",
     "text": [
      "LogisticRegression\n",
      "VanillaLogRegression\n",
      "KNN\n"
     ]
    },
    {
     "name": "stderr",
     "output_type": "stream",
     "text": [
      "C:\\Users\\chang\\Anaconda3\\lib\\site-packages\\ipykernel_launcher.py:49: FutureWarning: Sorting because non-concatenation axis is not aligned. A future version\n",
      "of pandas will change to not sort by default.\n",
      "\n",
      "To accept the future behavior, pass 'sort=False'.\n",
      "\n",
      "To retain the current behavior and silence the warning, pass 'sort=True'.\n",
      "\n"
     ]
    }
   ],
   "source": [
    "score1=search.score_summary(sort_by='mean_score',sort=False)"
   ]
  },
  {
   "cell_type": "markdown",
   "metadata": {},
   "source": [
    "We export our scores to a a csv titled 'score3' for future processing."
   ]
  },
  {
   "cell_type": "code",
   "execution_count": 18,
   "metadata": {},
   "outputs": [],
   "source": [
    "score1.to_csv(r'.\\data\\score3.csv',index=False)"
   ]
  },
  {
   "cell_type": "markdown",
   "metadata": {},
   "source": [
    "This cell can be run to read the scores on future runs."
   ]
  },
  {
   "cell_type": "code",
   "execution_count": 10,
   "metadata": {},
   "outputs": [],
   "source": [
    "score1=pd.read_csv(r'.\\data\\score3.csv')"
   ]
  },
  {
   "cell_type": "markdown",
   "metadata": {},
   "source": [
    "We find the best parameters for each modelling method to run tests on our holdout sets."
   ]
  },
  {
   "cell_type": "code",
   "execution_count": 11,
   "metadata": {},
   "outputs": [
    {
     "data": {
      "text/html": [
       "<div>\n",
       "<style scoped>\n",
       "    .dataframe tbody tr th:only-of-type {\n",
       "        vertical-align: middle;\n",
       "    }\n",
       "\n",
       "    .dataframe tbody tr th {\n",
       "        vertical-align: top;\n",
       "    }\n",
       "\n",
       "    .dataframe thead th {\n",
       "        text-align: right;\n",
       "    }\n",
       "</style>\n",
       "<table border=\"1\" class=\"dataframe\">\n",
       "  <thead>\n",
       "    <tr style=\"text-align: right;\">\n",
       "      <th></th>\n",
       "      <th>C</th>\n",
       "      <th>alpha</th>\n",
       "      <th>gamma</th>\n",
       "      <th>kernel</th>\n",
       "      <th>lambda</th>\n",
       "      <th>learning_rate</th>\n",
       "      <th>max_depth</th>\n",
       "      <th>max_score</th>\n",
       "      <th>mean_score</th>\n",
       "      <th>min_samples_leaf</th>\n",
       "      <th>min_samples_split</th>\n",
       "      <th>min_score</th>\n",
       "      <th>n_estimators</th>\n",
       "      <th>n_jobs</th>\n",
       "      <th>n_neighbors</th>\n",
       "      <th>penalty</th>\n",
       "      <th>std_score</th>\n",
       "      <th>subsample</th>\n",
       "    </tr>\n",
       "    <tr>\n",
       "      <th>estimator</th>\n",
       "      <th></th>\n",
       "      <th></th>\n",
       "      <th></th>\n",
       "      <th></th>\n",
       "      <th></th>\n",
       "      <th></th>\n",
       "      <th></th>\n",
       "      <th></th>\n",
       "      <th></th>\n",
       "      <th></th>\n",
       "      <th></th>\n",
       "      <th></th>\n",
       "      <th></th>\n",
       "      <th></th>\n",
       "      <th></th>\n",
       "      <th></th>\n",
       "      <th></th>\n",
       "      <th></th>\n",
       "    </tr>\n",
       "  </thead>\n",
       "  <tbody>\n",
       "    <tr>\n",
       "      <th>ExtraTrees</th>\n",
       "      <td>NaN</td>\n",
       "      <td>NaN</td>\n",
       "      <td>NaN</td>\n",
       "      <td>NaN</td>\n",
       "      <td>NaN</td>\n",
       "      <td>NaN</td>\n",
       "      <td>14.0</td>\n",
       "      <td>0.994832</td>\n",
       "      <td>0.984927</td>\n",
       "      <td>2.0</td>\n",
       "      <td>3.0</td>\n",
       "      <td>0.972868</td>\n",
       "      <td>100.0</td>\n",
       "      <td>NaN</td>\n",
       "      <td>NaN</td>\n",
       "      <td>NaN</td>\n",
       "      <td>0.028507</td>\n",
       "      <td>NaN</td>\n",
       "    </tr>\n",
       "    <tr>\n",
       "      <th>RandomForest</th>\n",
       "      <td>NaN</td>\n",
       "      <td>NaN</td>\n",
       "      <td>NaN</td>\n",
       "      <td>NaN</td>\n",
       "      <td>NaN</td>\n",
       "      <td>NaN</td>\n",
       "      <td>10.0</td>\n",
       "      <td>0.993971</td>\n",
       "      <td>0.971433</td>\n",
       "      <td>NaN</td>\n",
       "      <td>4.0</td>\n",
       "      <td>0.947459</td>\n",
       "      <td>100.0</td>\n",
       "      <td>NaN</td>\n",
       "      <td>NaN</td>\n",
       "      <td>NaN</td>\n",
       "      <td>0.038707</td>\n",
       "      <td>NaN</td>\n",
       "    </tr>\n",
       "    <tr>\n",
       "      <th>DecisionTree</th>\n",
       "      <td>NaN</td>\n",
       "      <td>NaN</td>\n",
       "      <td>NaN</td>\n",
       "      <td>NaN</td>\n",
       "      <td>NaN</td>\n",
       "      <td>NaN</td>\n",
       "      <td>14.0</td>\n",
       "      <td>0.985788</td>\n",
       "      <td>0.959231</td>\n",
       "      <td>2.0</td>\n",
       "      <td>3.0</td>\n",
       "      <td>0.921189</td>\n",
       "      <td>NaN</td>\n",
       "      <td>NaN</td>\n",
       "      <td>NaN</td>\n",
       "      <td>NaN</td>\n",
       "      <td>0.046609</td>\n",
       "      <td>NaN</td>\n",
       "    </tr>\n",
       "    <tr>\n",
       "      <th>BaggedDecisionTree</th>\n",
       "      <td>NaN</td>\n",
       "      <td>NaN</td>\n",
       "      <td>NaN</td>\n",
       "      <td>NaN</td>\n",
       "      <td>NaN</td>\n",
       "      <td>NaN</td>\n",
       "      <td>NaN</td>\n",
       "      <td>0.991387</td>\n",
       "      <td>0.957221</td>\n",
       "      <td>NaN</td>\n",
       "      <td>NaN</td>\n",
       "      <td>0.894057</td>\n",
       "      <td>100.0</td>\n",
       "      <td>NaN</td>\n",
       "      <td>NaN</td>\n",
       "      <td>NaN</td>\n",
       "      <td>0.045821</td>\n",
       "      <td>NaN</td>\n",
       "    </tr>\n",
       "    <tr>\n",
       "      <th>XGBoost</th>\n",
       "      <td>NaN</td>\n",
       "      <td>0.9</td>\n",
       "      <td>0.9</td>\n",
       "      <td>NaN</td>\n",
       "      <td>0.9</td>\n",
       "      <td>0.7</td>\n",
       "      <td>3.0</td>\n",
       "      <td>0.992679</td>\n",
       "      <td>0.951766</td>\n",
       "      <td>NaN</td>\n",
       "      <td>NaN</td>\n",
       "      <td>0.905254</td>\n",
       "      <td>150.0</td>\n",
       "      <td>4.0</td>\n",
       "      <td>NaN</td>\n",
       "      <td>NaN</td>\n",
       "      <td>0.058165</td>\n",
       "      <td>0.5</td>\n",
       "    </tr>\n",
       "    <tr>\n",
       "      <th>GradientBoosting</th>\n",
       "      <td>NaN</td>\n",
       "      <td>NaN</td>\n",
       "      <td>NaN</td>\n",
       "      <td>NaN</td>\n",
       "      <td>NaN</td>\n",
       "      <td>1.0</td>\n",
       "      <td>3.0</td>\n",
       "      <td>0.993109</td>\n",
       "      <td>0.949038</td>\n",
       "      <td>NaN</td>\n",
       "      <td>NaN</td>\n",
       "      <td>0.900947</td>\n",
       "      <td>140.0</td>\n",
       "      <td>NaN</td>\n",
       "      <td>NaN</td>\n",
       "      <td>NaN</td>\n",
       "      <td>0.064162</td>\n",
       "      <td>NaN</td>\n",
       "    </tr>\n",
       "    <tr>\n",
       "      <th>KNN</th>\n",
       "      <td>NaN</td>\n",
       "      <td>NaN</td>\n",
       "      <td>NaN</td>\n",
       "      <td>NaN</td>\n",
       "      <td>NaN</td>\n",
       "      <td>NaN</td>\n",
       "      <td>NaN</td>\n",
       "      <td>0.955642</td>\n",
       "      <td>0.942578</td>\n",
       "      <td>NaN</td>\n",
       "      <td>NaN</td>\n",
       "      <td>0.920758</td>\n",
       "      <td>NaN</td>\n",
       "      <td>NaN</td>\n",
       "      <td>21.0</td>\n",
       "      <td>NaN</td>\n",
       "      <td>0.018595</td>\n",
       "      <td>NaN</td>\n",
       "    </tr>\n",
       "    <tr>\n",
       "      <th>AdaBoost</th>\n",
       "      <td>NaN</td>\n",
       "      <td>NaN</td>\n",
       "      <td>NaN</td>\n",
       "      <td>NaN</td>\n",
       "      <td>NaN</td>\n",
       "      <td>1.0</td>\n",
       "      <td>NaN</td>\n",
       "      <td>0.967700</td>\n",
       "      <td>0.931668</td>\n",
       "      <td>NaN</td>\n",
       "      <td>NaN</td>\n",
       "      <td>0.886736</td>\n",
       "      <td>150.0</td>\n",
       "      <td>NaN</td>\n",
       "      <td>NaN</td>\n",
       "      <td>NaN</td>\n",
       "      <td>0.052074</td>\n",
       "      <td>NaN</td>\n",
       "    </tr>\n",
       "    <tr>\n",
       "      <th>SVM</th>\n",
       "      <td>0.95</td>\n",
       "      <td>NaN</td>\n",
       "      <td>NaN</td>\n",
       "      <td>rbf</td>\n",
       "      <td>NaN</td>\n",
       "      <td>NaN</td>\n",
       "      <td>NaN</td>\n",
       "      <td>0.942291</td>\n",
       "      <td>0.923629</td>\n",
       "      <td>NaN</td>\n",
       "      <td>NaN</td>\n",
       "      <td>0.891042</td>\n",
       "      <td>NaN</td>\n",
       "      <td>NaN</td>\n",
       "      <td>NaN</td>\n",
       "      <td>NaN</td>\n",
       "      <td>0.026138</td>\n",
       "      <td>NaN</td>\n",
       "    </tr>\n",
       "    <tr>\n",
       "      <th>LogisticRegression</th>\n",
       "      <td>0.95</td>\n",
       "      <td>NaN</td>\n",
       "      <td>NaN</td>\n",
       "      <td>NaN</td>\n",
       "      <td>NaN</td>\n",
       "      <td>NaN</td>\n",
       "      <td>NaN</td>\n",
       "      <td>0.861757</td>\n",
       "      <td>0.855154</td>\n",
       "      <td>NaN</td>\n",
       "      <td>NaN</td>\n",
       "      <td>0.851852</td>\n",
       "      <td>NaN</td>\n",
       "      <td>NaN</td>\n",
       "      <td>NaN</td>\n",
       "      <td>l2</td>\n",
       "      <td>0.006525</td>\n",
       "      <td>NaN</td>\n",
       "    </tr>\n",
       "  </tbody>\n",
       "</table>\n",
       "</div>"
      ],
      "text/plain": [
       "                       C  alpha  gamma kernel  lambda  learning_rate  \\\n",
       "estimator                                                              \n",
       "ExtraTrees           NaN    NaN    NaN    NaN     NaN            NaN   \n",
       "RandomForest         NaN    NaN    NaN    NaN     NaN            NaN   \n",
       "DecisionTree         NaN    NaN    NaN    NaN     NaN            NaN   \n",
       "BaggedDecisionTree   NaN    NaN    NaN    NaN     NaN            NaN   \n",
       "XGBoost              NaN    0.9    0.9    NaN     0.9            0.7   \n",
       "GradientBoosting     NaN    NaN    NaN    NaN     NaN            1.0   \n",
       "KNN                  NaN    NaN    NaN    NaN     NaN            NaN   \n",
       "AdaBoost             NaN    NaN    NaN    NaN     NaN            1.0   \n",
       "SVM                 0.95    NaN    NaN    rbf     NaN            NaN   \n",
       "LogisticRegression  0.95    NaN    NaN    NaN     NaN            NaN   \n",
       "\n",
       "                    max_depth  max_score  mean_score  min_samples_leaf  \\\n",
       "estimator                                                                \n",
       "ExtraTrees               14.0   0.994832    0.984927               2.0   \n",
       "RandomForest             10.0   0.993971    0.971433               NaN   \n",
       "DecisionTree             14.0   0.985788    0.959231               2.0   \n",
       "BaggedDecisionTree        NaN   0.991387    0.957221               NaN   \n",
       "XGBoost                   3.0   0.992679    0.951766               NaN   \n",
       "GradientBoosting          3.0   0.993109    0.949038               NaN   \n",
       "KNN                       NaN   0.955642    0.942578               NaN   \n",
       "AdaBoost                  NaN   0.967700    0.931668               NaN   \n",
       "SVM                       NaN   0.942291    0.923629               NaN   \n",
       "LogisticRegression        NaN   0.861757    0.855154               NaN   \n",
       "\n",
       "                    min_samples_split  min_score  n_estimators  n_jobs  \\\n",
       "estimator                                                                \n",
       "ExtraTrees                        3.0   0.972868         100.0     NaN   \n",
       "RandomForest                      4.0   0.947459         100.0     NaN   \n",
       "DecisionTree                      3.0   0.921189           NaN     NaN   \n",
       "BaggedDecisionTree                NaN   0.894057         100.0     NaN   \n",
       "XGBoost                           NaN   0.905254         150.0     4.0   \n",
       "GradientBoosting                  NaN   0.900947         140.0     NaN   \n",
       "KNN                               NaN   0.920758           NaN     NaN   \n",
       "AdaBoost                          NaN   0.886736         150.0     NaN   \n",
       "SVM                               NaN   0.891042           NaN     NaN   \n",
       "LogisticRegression                NaN   0.851852           NaN     NaN   \n",
       "\n",
       "                    n_neighbors penalty  std_score  subsample  \n",
       "estimator                                                      \n",
       "ExtraTrees                  NaN     NaN   0.028507        NaN  \n",
       "RandomForest                NaN     NaN   0.038707        NaN  \n",
       "DecisionTree                NaN     NaN   0.046609        NaN  \n",
       "BaggedDecisionTree          NaN     NaN   0.045821        NaN  \n",
       "XGBoost                     NaN     NaN   0.058165        0.5  \n",
       "GradientBoosting            NaN     NaN   0.064162        NaN  \n",
       "KNN                        21.0     NaN   0.018595        NaN  \n",
       "AdaBoost                    NaN     NaN   0.052074        NaN  \n",
       "SVM                         NaN     NaN   0.026138        NaN  \n",
       "LogisticRegression          NaN      l2   0.006525        NaN  "
      ]
     },
     "execution_count": 11,
     "metadata": {},
     "output_type": "execute_result"
    }
   ],
   "source": [
    "pd.pivot_table(score1,index='estimator',aggfunc='max').sort_values('mean_score',ascending=False)"
   ]
  },
  {
   "cell_type": "markdown",
   "metadata": {},
   "source": [
    "---\n",
    "# Holdout Testing<a id=holdout1></a>\n",
    "We create a dictionary to store the best parameters for our different models."
   ]
  },
  {
   "cell_type": "code",
   "execution_count": 5,
   "metadata": {},
   "outputs": [],
   "source": [
    "estimators = {\n",
    "    'XGB' : XGBClassifier(random_state = 42, gamma=0.3,learning_rate=0.4,max_depth=3,n_estimators=150,subsample=0.5),\n",
    "    'ADA' : AdaBoostClassifier(random_state = 42,learning_rate=0.788889,n_estimators=150),\n",
    "    'GBoost' : GradientBoostingClassifier(random_state = 42,learning_rate=0.261111,max_depth=3,n_estimators=140),\n",
    "    'SVC' : SVC(random_state = 42,kernel='rbf',probability=True,gamme='auto'),\n",
    "    'DecisionTree' : DecisionTreeClassifier(random_state = 42,max_depth=None,min_samples_leaf=1,min_samples_split=2),\n",
    "    'knn' : KNeighborsClassifier(n_neighbors=3),\n",
    "    'random forest' : RandomForestClassifier(random_state = 42,max_depth=10,min_samples_split=2,n_estimators=100),\n",
    "    'ef' : ExtraTreesClassifier(random_state = 42,min_samples_leaf=2,min_samples_split=2,n_estimators=60),\n",
    "    'lr with reg' : LogisticRegression(random_state = 42,penalty='l2',C=0.05),\n",
    "    'bagging classifier' : BaggingClassifier(random_state = 42,n_estimators=100),\n",
    "    'vanilla logistic regression' : LogisticRegression(random_state=42)\n",
    "}"
   ]
  },
  {
   "cell_type": "markdown",
   "metadata": {},
   "source": [
    "Next, we fit our models on our training data and test it on our holdout set.<br/>\n",
    "We obtain the classification reports for our tests, and save data that will aid us in plotting the ROC and precision-recall curves."
   ]
  },
  {
   "cell_type": "code",
   "execution_count": 7,
   "metadata": {},
   "outputs": [
    {
     "name": "stdout",
     "output_type": "stream",
     "text": [
      "Results for  XGB :\n",
      "              precision    recall  f1-score   support\n",
      "\n",
      "         0.0       0.96      0.96      0.96      2987\n",
      "         1.0       0.23      0.24      0.24       165\n",
      "\n",
      "   micro avg       0.92      0.92      0.92      3152\n",
      "   macro avg       0.60      0.60      0.60      3152\n",
      "weighted avg       0.92      0.92      0.92      3152\n",
      "\n",
      "Results for  ADA :\n",
      "              precision    recall  f1-score   support\n",
      "\n",
      "         0.0       0.97      0.91      0.94      2987\n",
      "         1.0       0.24      0.50      0.32       165\n",
      "\n",
      "   micro avg       0.89      0.89      0.89      3152\n",
      "   macro avg       0.60      0.70      0.63      3152\n",
      "weighted avg       0.93      0.89      0.91      3152\n",
      "\n",
      "Results for  GBoost :\n",
      "              precision    recall  f1-score   support\n",
      "\n",
      "         0.0       0.96      0.96      0.96      2987\n",
      "         1.0       0.28      0.31      0.29       165\n",
      "\n",
      "   micro avg       0.92      0.92      0.92      3152\n",
      "   macro avg       0.62      0.63      0.63      3152\n",
      "weighted avg       0.93      0.92      0.92      3152\n",
      "\n"
     ]
    },
    {
     "name": "stderr",
     "output_type": "stream",
     "text": [
      "C:\\Users\\chang\\Anaconda3\\lib\\site-packages\\sklearn\\svm\\base.py:196: FutureWarning: The default value of gamma will change from 'auto' to 'scale' in version 0.22 to account better for unscaled features. Set gamma explicitly to 'auto' or 'scale' to avoid this warning.\n",
      "  \"avoid this warning.\", FutureWarning)\n"
     ]
    },
    {
     "name": "stdout",
     "output_type": "stream",
     "text": [
      "Results for  SVC :\n",
      "              precision    recall  f1-score   support\n",
      "\n",
      "         0.0       0.97      0.84      0.90      2987\n",
      "         1.0       0.16      0.53      0.24       165\n",
      "\n",
      "   micro avg       0.83      0.83      0.83      3152\n",
      "   macro avg       0.56      0.68      0.57      3152\n",
      "weighted avg       0.93      0.83      0.87      3152\n",
      "\n",
      "Results for  DecisionTree :\n",
      "              precision    recall  f1-score   support\n",
      "\n",
      "         0.0       0.96      0.94      0.95      2987\n",
      "         1.0       0.20      0.27      0.23       165\n",
      "\n",
      "   micro avg       0.91      0.91      0.91      3152\n",
      "   macro avg       0.58      0.61      0.59      3152\n",
      "weighted avg       0.92      0.91      0.91      3152\n",
      "\n",
      "Results for  knn :\n",
      "              precision    recall  f1-score   support\n",
      "\n",
      "         0.0       0.96      0.89      0.92      2987\n",
      "         1.0       0.14      0.32      0.19       165\n",
      "\n",
      "   micro avg       0.86      0.86      0.86      3152\n",
      "   macro avg       0.55      0.60      0.56      3152\n",
      "weighted avg       0.92      0.86      0.89      3152\n",
      "\n",
      "Results for  random forest :\n",
      "              precision    recall  f1-score   support\n",
      "\n",
      "         0.0       0.97      0.89      0.93      2987\n",
      "         1.0       0.22      0.55      0.31       165\n",
      "\n",
      "   micro avg       0.88      0.88      0.88      3152\n",
      "   macro avg       0.60      0.72      0.62      3152\n",
      "weighted avg       0.93      0.88      0.90      3152\n",
      "\n",
      "Results for  ef :\n",
      "              precision    recall  f1-score   support\n",
      "\n",
      "         0.0       0.96      0.95      0.96      2987\n",
      "         1.0       0.27      0.32      0.29       165\n",
      "\n",
      "   micro avg       0.92      0.92      0.92      3152\n",
      "   macro avg       0.61      0.64      0.62      3152\n",
      "weighted avg       0.93      0.92      0.92      3152\n",
      "\n"
     ]
    },
    {
     "name": "stderr",
     "output_type": "stream",
     "text": [
      "C:\\Users\\chang\\Anaconda3\\lib\\site-packages\\sklearn\\linear_model\\logistic.py:433: FutureWarning: Default solver will be changed to 'lbfgs' in 0.22. Specify a solver to silence this warning.\n",
      "  FutureWarning)\n"
     ]
    },
    {
     "name": "stdout",
     "output_type": "stream",
     "text": [
      "Results for  lr with reg :\n",
      "              precision    recall  f1-score   support\n",
      "\n",
      "         0.0       0.98      0.78      0.87      2987\n",
      "         1.0       0.15      0.67      0.24       165\n",
      "\n",
      "   micro avg       0.78      0.78      0.78      3152\n",
      "   macro avg       0.56      0.73      0.55      3152\n",
      "weighted avg       0.93      0.78      0.84      3152\n",
      "\n",
      "Results for  bagging classifier :\n",
      "              precision    recall  f1-score   support\n",
      "\n",
      "         0.0       0.96      0.95      0.96      2987\n",
      "         1.0       0.21      0.22      0.21       165\n",
      "\n",
      "   micro avg       0.92      0.92      0.92      3152\n",
      "   macro avg       0.58      0.59      0.58      3152\n",
      "weighted avg       0.92      0.92      0.92      3152\n",
      "\n"
     ]
    },
    {
     "name": "stderr",
     "output_type": "stream",
     "text": [
      "C:\\Users\\chang\\Anaconda3\\lib\\site-packages\\sklearn\\linear_model\\logistic.py:433: FutureWarning: Default solver will be changed to 'lbfgs' in 0.22. Specify a solver to silence this warning.\n",
      "  FutureWarning)\n"
     ]
    },
    {
     "name": "stdout",
     "output_type": "stream",
     "text": [
      "Results for  vanilla logistic regression :\n",
      "              precision    recall  f1-score   support\n",
      "\n",
      "         0.0       0.98      0.79      0.87      2987\n",
      "         1.0       0.15      0.65      0.24       165\n",
      "\n",
      "   micro avg       0.78      0.78      0.78      3152\n",
      "   macro avg       0.56      0.72      0.56      3152\n",
      "weighted avg       0.93      0.78      0.84      3152\n",
      "\n"
     ]
    }
   ],
   "source": [
    "scores = []\n",
    "\n",
    "for e_name,estimator in estimators.items():\n",
    "    estimator.fit(sampledX,sampledy)\n",
    "    pred=estimator.predict(test_x)\n",
    "    fpr, tpr, _ = roc_curve(test_y, estimator.predict_proba(test_x)[:,1],pos_label=1)\n",
    "    precision, recall, _ = precision_recall_curve(test_y, estimator.predict_proba(test_x)[:,1],pos_label=1)\n",
    "    score = {'est':e_name,\n",
    "             'roc_curve':[fpr, tpr],\n",
    "             'prc':[precision,recall]}\n",
    "    scores.append(score)\n",
    "    print('Results for ',e_name,':')\n",
    "    print(classification_report(test_y,pred))\n"
   ]
  },
  {
   "cell_type": "markdown",
   "metadata": {},
   "source": [
    "As part of our data analysis, we get the coefficients of our best model (Logistic Regression with default parameters) to understand what are the factors that most strongly affect the presence of the West Nile virus."
   ]
  },
  {
   "cell_type": "code",
   "execution_count": 3,
   "metadata": {},
   "outputs": [
    {
     "data": {
      "text/html": [
       "<div>\n",
       "<style scoped>\n",
       "    .dataframe tbody tr th:only-of-type {\n",
       "        vertical-align: middle;\n",
       "    }\n",
       "\n",
       "    .dataframe tbody tr th {\n",
       "        vertical-align: top;\n",
       "    }\n",
       "\n",
       "    .dataframe thead th {\n",
       "        text-align: right;\n",
       "    }\n",
       "</style>\n",
       "<table border=\"1\" class=\"dataframe\">\n",
       "  <thead>\n",
       "    <tr style=\"text-align: right;\">\n",
       "      <th></th>\n",
       "      <th>0</th>\n",
       "      <th>1</th>\n",
       "      <th>abscoeff</th>\n",
       "    </tr>\n",
       "  </thead>\n",
       "  <tbody>\n",
       "    <tr>\n",
       "      <th>5</th>\n",
       "      <td>Tavg</td>\n",
       "      <td>3.567959</td>\n",
       "      <td>3.567959</td>\n",
       "    </tr>\n",
       "    <tr>\n",
       "      <th>17</th>\n",
       "      <td>month_6</td>\n",
       "      <td>-2.218867</td>\n",
       "      <td>2.218867</td>\n",
       "    </tr>\n",
       "    <tr>\n",
       "      <th>1</th>\n",
       "      <td>Sunset</td>\n",
       "      <td>-1.363936</td>\n",
       "      <td>1.363936</td>\n",
       "    </tr>\n",
       "    <tr>\n",
       "      <th>0</th>\n",
       "      <td>NumMosquitos</td>\n",
       "      <td>1.336941</td>\n",
       "      <td>1.336941</td>\n",
       "    </tr>\n",
       "    <tr>\n",
       "      <th>6</th>\n",
       "      <td>Depart</td>\n",
       "      <td>-1.228118</td>\n",
       "      <td>1.228118</td>\n",
       "    </tr>\n",
       "    <tr>\n",
       "      <th>107</th>\n",
       "      <td>Street_ S TORRENCE AVE</td>\n",
       "      <td>-0.960389</td>\n",
       "      <td>0.960389</td>\n",
       "    </tr>\n",
       "    <tr>\n",
       "      <th>85</th>\n",
       "      <td>Street_ S DOTY AVE</td>\n",
       "      <td>-0.945215</td>\n",
       "      <td>0.945215</td>\n",
       "    </tr>\n",
       "    <tr>\n",
       "      <th>105</th>\n",
       "      <td>Street_ S STONY ISLAND AVE</td>\n",
       "      <td>-0.934660</td>\n",
       "      <td>0.934660</td>\n",
       "    </tr>\n",
       "    <tr>\n",
       "      <th>3</th>\n",
       "      <td>Tmax</td>\n",
       "      <td>-0.921086</td>\n",
       "      <td>0.921086</td>\n",
       "    </tr>\n",
       "    <tr>\n",
       "      <th>26</th>\n",
       "      <td>Species_CULEX TERRITANS</td>\n",
       "      <td>-0.818016</td>\n",
       "      <td>0.818016</td>\n",
       "    </tr>\n",
       "  </tbody>\n",
       "</table>\n",
       "</div>"
      ],
      "text/plain": [
       "                              0         1  abscoeff\n",
       "5                          Tavg  3.567959  3.567959\n",
       "17                      month_6 -2.218867  2.218867\n",
       "1                        Sunset -1.363936  1.363936\n",
       "0                  NumMosquitos  1.336941  1.336941\n",
       "6                        Depart -1.228118  1.228118\n",
       "107      Street_ S TORRENCE AVE -0.960389  0.960389\n",
       "85           Street_ S DOTY AVE -0.945215  0.945215\n",
       "105  Street_ S STONY ISLAND AVE -0.934660  0.934660\n",
       "3                          Tmax -0.921086  0.921086\n",
       "26      Species_CULEX TERRITANS -0.818016  0.818016"
      ]
     },
     "execution_count": 3,
     "metadata": {},
     "output_type": "execute_result"
    }
   ],
   "source": [
    "lr=LogisticRegression(random_state=42,solver='lbfgs',max_iter=1000)\n",
    "lr.fit(sampledX,sampledy)\n",
    "coeffs=zip((X.columns),(lr.coef_[0]))\n",
    "df=pd.DataFrame(coeffs)\n",
    "df['abscoeff']=df[1].abs()\n",
    "df.sort_values('abscoeff',ascending=False).head(10)"
   ]
  },
  {
   "cell_type": "code",
   "execution_count": 19,
   "metadata": {},
   "outputs": [],
   "source": [
    "imp_coefs.set_index(0,inplace=True)"
   ]
  },
  {
   "cell_type": "code",
   "execution_count": 26,
   "metadata": {},
   "outputs": [
    {
     "data": {
      "image/png": "[encoded data removed]",
      "text/plain": [
       "<Figure size 720x360 with 1 Axes>"
      ]
     },
     "metadata": {
      "needs_background": "light"
     },
     "output_type": "display_data"
    }
   ],
   "source": [
    "imp_coefs = pd.concat([df.sort_values(by=1).head(10),\n",
    "                     df.sort_values(by=1).tail(10)])\n",
    "imp_coefs.plot(x=0,y=1,kind = \"barh\", figsize = (10,5))\n",
    "plt.title(\"Coefficients in the Classification Model\")\n",
    "plt.ylabel(\"Coefficient\")\n",
    "plt.show()"
   ]
  },
  {
   "cell_type": "markdown",
   "metadata": {},
   "source": [
    "From the coefficients, we can observe that temperature, the number of mosquitoes caught in traps, and height above sea level have the highest correlation with the presence of the West Nile virus. It seems that weather-based factors have the greatest effect on the occurence of the West Nile virus.<br/>\n",
    "It is also interesting to note that the month of the year has some effect on the presence of the West Nile virus as well, where West Nile occurs most prevalently in August, and has the least occurences in June."
   ]
  },
  {
   "cell_type": "markdown",
   "metadata": {},
   "source": [
    "---\n",
    "# Model Visualizations<a id=vis></a>\n",
    "## ROC curve<a id=roc></a>"
   ]
  },
  {
   "cell_type": "code",
   "execution_count": 79,
   "metadata": {},
   "outputs": [
    {
     "data": {
      "image/png": "[encoded data removed]",
      "text/plain": [
       "<Figure size 720x360 with 1 Axes>"
      ]
     },
     "metadata": {
      "needs_background": "light"
     },
     "output_type": "display_data"
    }
   ],
   "source": [
    "#### Plot figure\n",
    "plt.figure(1,figsize=(10,5))\n",
    "plt.plot([0, 1], [0, 1], 'k--')\n",
    "for score in scores:\n",
    "    plt.plot(score['roc_curve'][0], score['roc_curve'][1], label=score['est'])\n",
    "plt.xlabel('Sensitivity')\n",
    "plt.ylabel('1 - Specificity')\n",
    "plt.title('ROC curve')\n",
    "plt.legend(loc='best')\n",
    "\n",
    "plt.show()"
   ]
  },
  {
   "cell_type": "markdown",
   "metadata": {},
   "source": [
    "## Precision-Recall Curve<a id=prc></a>"
   ]
  },
  {
   "cell_type": "code",
   "execution_count": 84,
   "metadata": {},
   "outputs": [
    {
     "data": {
      "image/png": "[encoded data removed]",
      "text/plain": [
       "<Figure size 720x432 with 1 Axes>"
      ]
     },
     "metadata": {
      "needs_background": "light"
     },
     "output_type": "display_data"
    }
   ],
   "source": [
    "colors = ['darkmagenta','sienna','darksalmon',\n",
    "          'seagreen','olive','cyan','navy', \n",
    "          'turquoise', 'darkorange', 'cornflowerblue', 'teal']\n",
    "\n",
    "plt.figure(figsize=(10, 6))\n",
    "lines = []\n",
    "labels = []\n",
    "idx=0\n",
    "for score in scores:\n",
    "    l, = plt.plot(score['prc'][1], score['prc'][0], color=colors[idx], lw=2)\n",
    "    lines.append(l)\n",
    "    labels.append('Precision-recall for class {0}'.format(score['est']))\n",
    "    idx+=1\n",
    "    \n",
    "fig = plt.gcf()\n",
    "fig.subplots_adjust(bottom=0.1)\n",
    "plt.xlim([0.0, 1.0])\n",
    "plt.ylim([0.0, 1.05])\n",
    "plt.xlabel('Recall')\n",
    "plt.ylabel('Precision')\n",
    "plt.title('Precision - Recall Curve')\n",
    "plt.legend(lines, labels, loc=(1.05, .38), prop=dict(size=10))\n",
    "\n",
    "\n",
    "plt.show()\n"
   ]
  },
  {
   "cell_type": "markdown",
   "metadata": {},
   "source": [
    "---\n",
    "# Model Optimization for Kaggle<a id=kaggle></a>"
   ]
  },
  {
   "cell_type": "markdown",
   "metadata": {},
   "source": [
    "First, we import and transform our data for our modelling.<br/>\n",
    "Our data is different from the previous round of modelling in the following ways:\n",
    "1. 'NumMosquitos' has been dropped as this feature does not exist in our Kaggle test set.\n",
    "2. Our weather data has been set to different time lag factors as mentioned in the previous 'weather_lag' Jupyter notebook."
   ]
  },
  {
   "cell_type": "code",
   "execution_count": 9,
   "metadata": {},
   "outputs": [],
   "source": [
    "train=pd.read_csv(r'.\\data\\train_lag_Kaggle.csv')\n",
    "test=pd.read_csv(r'.\\data\\test_lag_Kaggle.csv')"
   ]
  },
  {
   "cell_type": "code",
   "execution_count": 12,
   "metadata": {},
   "outputs": [],
   "source": [
    "train['month']=train['month'].astype(str)\n",
    "train_dummies = pd.get_dummies(train,drop_first=True,columns=['month','Species','Street']).astype('float64')\n",
    "\n",
    "y = train_dummies['WnvPresent']\n",
    "X = train_dummies[[col for col in train_dummies.columns if col != 'WnvPresent']]\n",
    "\n",
    "train_x, test_x, train_y, test_y = train_test_split(X,y,test_size = 0.3, random_state = 666,stratify=y)\n",
    "train_x=scaler.fit_transform(train_x)\n",
    "test_x=scaler.transform(test_x)\n",
    "sampledX,sampledy = sm.fit_sample(train_x,train_y)"
   ]
  },
  {
   "cell_type": "markdown",
   "metadata": {},
   "source": [
    "We set our scoring method to 'roc_auc' as this is the metric on which Kaggle will score our model."
   ]
  },
  {
   "cell_type": "code",
   "execution_count": 13,
   "metadata": {},
   "outputs": [
    {
     "name": "stdout",
     "output_type": "stream",
     "text": [
      "Running GridSearchCV for LogisticRegression.\n",
      "Fitting 3 folds for each of 38 candidates, totalling 114 fits\n"
     ]
    },
    {
     "name": "stderr",
     "output_type": "stream",
     "text": [
      "[Parallel(n_jobs=6)]: Using backend LokyBackend with 6 concurrent workers.\n",
      "[Parallel(n_jobs=6)]: Done  38 tasks      | elapsed:   27.9s\n",
      "[Parallel(n_jobs=6)]: Done 114 out of 114 | elapsed:  1.6min finished\n",
      "[Parallel(n_jobs=6)]: Using backend LokyBackend with 6 concurrent workers.\n"
     ]
    },
    {
     "name": "stdout",
     "output_type": "stream",
     "text": [
      "Running GridSearchCV for VanillaLogRegression.\n",
      "Fitting 3 folds for each of 1 candidates, totalling 3 fits\n"
     ]
    },
    {
     "name": "stderr",
     "output_type": "stream",
     "text": [
      "[Parallel(n_jobs=6)]: Done   3 out of   3 | elapsed:    1.5s finished\n",
      "[Parallel(n_jobs=6)]: Using backend LokyBackend with 6 concurrent workers.\n"
     ]
    },
    {
     "name": "stdout",
     "output_type": "stream",
     "text": [
      "Running GridSearchCV for KNN.\n",
      "Fitting 3 folds for each of 10 candidates, totalling 30 fits\n"
     ]
    },
    {
     "name": "stderr",
     "output_type": "stream",
     "text": [
      "[Parallel(n_jobs=6)]: Done  30 out of  30 | elapsed:  3.1min finished\n",
      "[Parallel(n_jobs=6)]: Using backend LokyBackend with 6 concurrent workers.\n"
     ]
    },
    {
     "name": "stdout",
     "output_type": "stream",
     "text": [
      "Running GridSearchCV for DecisionTree.\n",
      "Fitting 3 folds for each of 16 candidates, totalling 48 fits\n"
     ]
    },
    {
     "name": "stderr",
     "output_type": "stream",
     "text": [
      "[Parallel(n_jobs=6)]: Done  48 out of  48 | elapsed:    3.2s finished\n",
      "[Parallel(n_jobs=6)]: Using backend LokyBackend with 6 concurrent workers.\n"
     ]
    },
    {
     "name": "stdout",
     "output_type": "stream",
     "text": [
      "Running GridSearchCV for BaggedDecisionTree.\n",
      "Fitting 3 folds for each of 3 candidates, totalling 9 fits\n"
     ]
    },
    {
     "name": "stderr",
     "output_type": "stream",
     "text": [
      "[Parallel(n_jobs=6)]: Done   9 out of   9 | elapsed:   28.3s finished\n",
      "[Parallel(n_jobs=6)]: Using backend LokyBackend with 6 concurrent workers.\n"
     ]
    },
    {
     "name": "stdout",
     "output_type": "stream",
     "text": [
      "Running GridSearchCV for RandomForest.\n",
      "Fitting 3 folds for each of 36 candidates, totalling 108 fits\n"
     ]
    },
    {
     "name": "stderr",
     "output_type": "stream",
     "text": [
      "[Parallel(n_jobs=6)]: Done  38 tasks      | elapsed:   10.1s\n",
      "[Parallel(n_jobs=6)]: Done 108 out of 108 | elapsed:   24.7s finished\n",
      "[Parallel(n_jobs=6)]: Using backend LokyBackend with 6 concurrent workers.\n"
     ]
    },
    {
     "name": "stdout",
     "output_type": "stream",
     "text": [
      "Running GridSearchCV for ExtraTrees.\n",
      "Fitting 3 folds for each of 48 candidates, totalling 144 fits\n"
     ]
    },
    {
     "name": "stderr",
     "output_type": "stream",
     "text": [
      "[Parallel(n_jobs=6)]: Done  38 tasks      | elapsed:   19.1s\n",
      "[Parallel(n_jobs=6)]: Done 144 out of 144 | elapsed:   57.9s finished\n",
      "[Parallel(n_jobs=6)]: Using backend LokyBackend with 6 concurrent workers.\n"
     ]
    },
    {
     "name": "stdout",
     "output_type": "stream",
     "text": [
      "Running GridSearchCV for AdaBoost.\n",
      "Fitting 3 folds for each of 30 candidates, totalling 90 fits\n"
     ]
    },
    {
     "name": "stderr",
     "output_type": "stream",
     "text": [
      "[Parallel(n_jobs=6)]: Done  38 tasks      | elapsed:   56.2s\n",
      "[Parallel(n_jobs=6)]: Done  90 out of  90 | elapsed:  2.1min finished\n",
      "[Parallel(n_jobs=6)]: Using backend LokyBackend with 6 concurrent workers.\n"
     ]
    },
    {
     "name": "stdout",
     "output_type": "stream",
     "text": [
      "Running GridSearchCV for GradientBoosting.\n",
      "Fitting 3 folds for each of 300 candidates, totalling 900 fits\n"
     ]
    },
    {
     "name": "stderr",
     "output_type": "stream",
     "text": [
      "[Parallel(n_jobs=6)]: Done  38 tasks      | elapsed:   25.9s\n",
      "[Parallel(n_jobs=6)]: Done 188 tasks      | elapsed:  4.4min\n",
      "[Parallel(n_jobs=6)]: Done 438 tasks      | elapsed: 10.3min\n",
      "[Parallel(n_jobs=6)]: Done 788 tasks      | elapsed: 18.6min\n",
      "[Parallel(n_jobs=6)]: Done 900 out of 900 | elapsed: 21.7min finished\n",
      "[Parallel(n_jobs=6)]: Using backend LokyBackend with 6 concurrent workers.\n"
     ]
    },
    {
     "name": "stdout",
     "output_type": "stream",
     "text": [
      "Running GridSearchCV for SVM.\n",
      "Fitting 3 folds for each of 38 candidates, totalling 114 fits\n"
     ]
    },
    {
     "name": "stderr",
     "output_type": "stream",
     "text": [
      "[Parallel(n_jobs=6)]: Done  38 tasks      | elapsed:  5.3min\n",
      "[Parallel(n_jobs=6)]: Done 114 out of 114 | elapsed: 14.0min finished\n",
      "[Parallel(n_jobs=6)]: Using backend LokyBackend with 6 concurrent workers.\n"
     ]
    },
    {
     "name": "stdout",
     "output_type": "stream",
     "text": [
      "Running GridSearchCV for XGBoost.\n",
      "Fitting 3 folds for each of 576 candidates, totalling 1728 fits\n"
     ]
    },
    {
     "name": "stderr",
     "output_type": "stream",
     "text": [
      "C:\\Users\\chang\\Anaconda3\\lib\\site-packages\\sklearn\\externals\\joblib\\externals\\loky\\process_executor.py:706: UserWarning: A worker stopped while some jobs were given to the executor. This can be caused by a too short worker timeout or by a memory leak.\n",
      "  \"timeout or by a memory leak.\", UserWarning\n",
      "[Parallel(n_jobs=6)]: Done  38 tasks      | elapsed:  1.7min\n",
      "[Parallel(n_jobs=6)]: Done 188 tasks      | elapsed:  7.5min\n",
      "[Parallel(n_jobs=6)]: Done 438 tasks      | elapsed: 16.8min\n",
      "[Parallel(n_jobs=6)]: Done 788 tasks      | elapsed: 30.0min\n",
      "[Parallel(n_jobs=6)]: Done 1238 tasks      | elapsed: 47.5min\n",
      "[Parallel(n_jobs=6)]: Done 1728 out of 1728 | elapsed: 66.8min finished\n"
     ]
    }
   ],
   "source": [
    "search = EstimatorSelectionHelper(classifier_models, classifier_model_params)\n",
    "search.fit(sampledX,sampledy, scoring='roc_auc', n_jobs=6)"
   ]
  },
  {
   "cell_type": "markdown",
   "metadata": {},
   "source": [
    "We save our scoring into a dataframe and export this dataframe as 'score4.csv' for any future use."
   ]
  },
  {
   "cell_type": "code",
   "execution_count": 15,
   "metadata": {},
   "outputs": [
    {
     "name": "stdout",
     "output_type": "stream",
     "text": [
      "LogisticRegression\n",
      "VanillaLogRegression\n",
      "KNN\n",
      "DecisionTree\n",
      "BaggedDecisionTree\n",
      "RandomForest\n",
      "ExtraTrees\n",
      "AdaBoost\n",
      "GradientBoosting\n",
      "SVM\n",
      "XGBoost\n"
     ]
    },
    {
     "name": "stderr",
     "output_type": "stream",
     "text": [
      "C:\\Users\\chang\\Anaconda3\\lib\\site-packages\\ipykernel_launcher.py:49: FutureWarning: Sorting because non-concatenation axis is not aligned. A future version\n",
      "of pandas will change to not sort by default.\n",
      "\n",
      "To accept the future behavior, pass 'sort=False'.\n",
      "\n",
      "To retain the current behavior and silence the warning, pass 'sort=True'.\n",
      "\n"
     ]
    }
   ],
   "source": [
    "score1=search.score_summary(sort_by='mean_score',sort=True)"
   ]
  },
  {
   "cell_type": "code",
   "execution_count": 23,
   "metadata": {},
   "outputs": [],
   "source": [
    "score1.to_csv(r'.\\data\\score4.csv')"
   ]
  },
  {
   "cell_type": "markdown",
   "metadata": {},
   "source": [
    "---\n",
    "# Holdout Testing 2<a id=holdout2></a>\n",
    "The table below shows us the best parameters for each of our GridSearched models."
   ]
  },
  {
   "cell_type": "code",
   "execution_count": 27,
   "metadata": {},
   "outputs": [
    {
     "data": {
      "text/html": [
       "<div>\n",
       "<style scoped>\n",
       "    .dataframe tbody tr th:only-of-type {\n",
       "        vertical-align: middle;\n",
       "    }\n",
       "\n",
       "    .dataframe tbody tr th {\n",
       "        vertical-align: top;\n",
       "    }\n",
       "\n",
       "    .dataframe thead th {\n",
       "        text-align: right;\n",
       "    }\n",
       "</style>\n",
       "<table border=\"1\" class=\"dataframe\">\n",
       "  <thead>\n",
       "    <tr style=\"text-align: right;\">\n",
       "      <th></th>\n",
       "      <th>C</th>\n",
       "      <th>alpha</th>\n",
       "      <th>gamma</th>\n",
       "      <th>kernel</th>\n",
       "      <th>lambda</th>\n",
       "      <th>learning_rate</th>\n",
       "      <th>max_depth</th>\n",
       "      <th>max_score</th>\n",
       "      <th>mean_score</th>\n",
       "      <th>min_samples_leaf</th>\n",
       "      <th>min_samples_split</th>\n",
       "      <th>min_score</th>\n",
       "      <th>n_estimators</th>\n",
       "      <th>n_jobs</th>\n",
       "      <th>n_neighbors</th>\n",
       "      <th>penalty</th>\n",
       "      <th>std_score</th>\n",
       "      <th>subsample</th>\n",
       "    </tr>\n",
       "    <tr>\n",
       "      <th>estimator</th>\n",
       "      <th></th>\n",
       "      <th></th>\n",
       "      <th></th>\n",
       "      <th></th>\n",
       "      <th></th>\n",
       "      <th></th>\n",
       "      <th></th>\n",
       "      <th></th>\n",
       "      <th></th>\n",
       "      <th></th>\n",
       "      <th></th>\n",
       "      <th></th>\n",
       "      <th></th>\n",
       "      <th></th>\n",
       "      <th></th>\n",
       "      <th></th>\n",
       "      <th></th>\n",
       "      <th></th>\n",
       "    </tr>\n",
       "  </thead>\n",
       "  <tbody>\n",
       "    <tr>\n",
       "      <th>ExtraTrees</th>\n",
       "      <td>NaN</td>\n",
       "      <td>NaN</td>\n",
       "      <td>NaN</td>\n",
       "      <td>NaN</td>\n",
       "      <td>NaN</td>\n",
       "      <td>NaN</td>\n",
       "      <td>14.0</td>\n",
       "      <td>0.993679</td>\n",
       "      <td>0.990042</td>\n",
       "      <td>2.0</td>\n",
       "      <td>3.0</td>\n",
       "      <td>0.984234</td>\n",
       "      <td>100.0</td>\n",
       "      <td>NaN</td>\n",
       "      <td>NaN</td>\n",
       "      <td>NaN</td>\n",
       "      <td>0.008602</td>\n",
       "      <td>NaN</td>\n",
       "    </tr>\n",
       "    <tr>\n",
       "      <th>XGBoost</th>\n",
       "      <td>NaN</td>\n",
       "      <td>0.9</td>\n",
       "      <td>0.9</td>\n",
       "      <td>NaN</td>\n",
       "      <td>0.9</td>\n",
       "      <td>0.7</td>\n",
       "      <td>3.0</td>\n",
       "      <td>0.998663</td>\n",
       "      <td>0.989186</td>\n",
       "      <td>NaN</td>\n",
       "      <td>NaN</td>\n",
       "      <td>0.971612</td>\n",
       "      <td>150.0</td>\n",
       "      <td>4.0</td>\n",
       "      <td>NaN</td>\n",
       "      <td>NaN</td>\n",
       "      <td>0.013637</td>\n",
       "      <td>0.5</td>\n",
       "    </tr>\n",
       "    <tr>\n",
       "      <th>GradientBoosting</th>\n",
       "      <td>NaN</td>\n",
       "      <td>NaN</td>\n",
       "      <td>NaN</td>\n",
       "      <td>NaN</td>\n",
       "      <td>NaN</td>\n",
       "      <td>1.0</td>\n",
       "      <td>3.0</td>\n",
       "      <td>0.997641</td>\n",
       "      <td>0.988665</td>\n",
       "      <td>NaN</td>\n",
       "      <td>NaN</td>\n",
       "      <td>0.972513</td>\n",
       "      <td>140.0</td>\n",
       "      <td>NaN</td>\n",
       "      <td>NaN</td>\n",
       "      <td>NaN</td>\n",
       "      <td>0.020138</td>\n",
       "      <td>NaN</td>\n",
       "    </tr>\n",
       "    <tr>\n",
       "      <th>RandomForest</th>\n",
       "      <td>NaN</td>\n",
       "      <td>NaN</td>\n",
       "      <td>NaN</td>\n",
       "      <td>NaN</td>\n",
       "      <td>NaN</td>\n",
       "      <td>NaN</td>\n",
       "      <td>10.0</td>\n",
       "      <td>0.993234</td>\n",
       "      <td>0.987162</td>\n",
       "      <td>NaN</td>\n",
       "      <td>4.0</td>\n",
       "      <td>0.976473</td>\n",
       "      <td>100.0</td>\n",
       "      <td>NaN</td>\n",
       "      <td>NaN</td>\n",
       "      <td>NaN</td>\n",
       "      <td>0.012971</td>\n",
       "      <td>NaN</td>\n",
       "    </tr>\n",
       "    <tr>\n",
       "      <th>BaggedDecisionTree</th>\n",
       "      <td>NaN</td>\n",
       "      <td>NaN</td>\n",
       "      <td>NaN</td>\n",
       "      <td>NaN</td>\n",
       "      <td>NaN</td>\n",
       "      <td>NaN</td>\n",
       "      <td>NaN</td>\n",
       "      <td>0.992237</td>\n",
       "      <td>0.985343</td>\n",
       "      <td>NaN</td>\n",
       "      <td>NaN</td>\n",
       "      <td>0.971917</td>\n",
       "      <td>100.0</td>\n",
       "      <td>NaN</td>\n",
       "      <td>NaN</td>\n",
       "      <td>NaN</td>\n",
       "      <td>0.013370</td>\n",
       "      <td>NaN</td>\n",
       "    </tr>\n",
       "    <tr>\n",
       "      <th>AdaBoost</th>\n",
       "      <td>NaN</td>\n",
       "      <td>NaN</td>\n",
       "      <td>NaN</td>\n",
       "      <td>NaN</td>\n",
       "      <td>NaN</td>\n",
       "      <td>1.0</td>\n",
       "      <td>NaN</td>\n",
       "      <td>0.992859</td>\n",
       "      <td>0.981184</td>\n",
       "      <td>NaN</td>\n",
       "      <td>NaN</td>\n",
       "      <td>0.962414</td>\n",
       "      <td>150.0</td>\n",
       "      <td>NaN</td>\n",
       "      <td>NaN</td>\n",
       "      <td>NaN</td>\n",
       "      <td>0.013435</td>\n",
       "      <td>NaN</td>\n",
       "    </tr>\n",
       "    <tr>\n",
       "      <th>DecisionTree</th>\n",
       "      <td>NaN</td>\n",
       "      <td>NaN</td>\n",
       "      <td>NaN</td>\n",
       "      <td>NaN</td>\n",
       "      <td>NaN</td>\n",
       "      <td>NaN</td>\n",
       "      <td>14.0</td>\n",
       "      <td>0.986040</td>\n",
       "      <td>0.963768</td>\n",
       "      <td>2.0</td>\n",
       "      <td>3.0</td>\n",
       "      <td>0.941868</td>\n",
       "      <td>NaN</td>\n",
       "      <td>NaN</td>\n",
       "      <td>NaN</td>\n",
       "      <td>NaN</td>\n",
       "      <td>0.025830</td>\n",
       "      <td>NaN</td>\n",
       "    </tr>\n",
       "    <tr>\n",
       "      <th>KNN</th>\n",
       "      <td>NaN</td>\n",
       "      <td>NaN</td>\n",
       "      <td>NaN</td>\n",
       "      <td>NaN</td>\n",
       "      <td>NaN</td>\n",
       "      <td>NaN</td>\n",
       "      <td>NaN</td>\n",
       "      <td>0.957351</td>\n",
       "      <td>0.955210</td>\n",
       "      <td>NaN</td>\n",
       "      <td>NaN</td>\n",
       "      <td>0.953969</td>\n",
       "      <td>NaN</td>\n",
       "      <td>NaN</td>\n",
       "      <td>21.0</td>\n",
       "      <td>NaN</td>\n",
       "      <td>0.006529</td>\n",
       "      <td>NaN</td>\n",
       "    </tr>\n",
       "    <tr>\n",
       "      <th>SVM</th>\n",
       "      <td>0.95</td>\n",
       "      <td>NaN</td>\n",
       "      <td>NaN</td>\n",
       "      <td>rbf</td>\n",
       "      <td>NaN</td>\n",
       "      <td>NaN</td>\n",
       "      <td>NaN</td>\n",
       "      <td>0.956093</td>\n",
       "      <td>0.950815</td>\n",
       "      <td>NaN</td>\n",
       "      <td>NaN</td>\n",
       "      <td>0.944603</td>\n",
       "      <td>NaN</td>\n",
       "      <td>NaN</td>\n",
       "      <td>NaN</td>\n",
       "      <td>NaN</td>\n",
       "      <td>0.006340</td>\n",
       "      <td>NaN</td>\n",
       "    </tr>\n",
       "    <tr>\n",
       "      <th>VanillaLogRegression</th>\n",
       "      <td>NaN</td>\n",
       "      <td>NaN</td>\n",
       "      <td>NaN</td>\n",
       "      <td>NaN</td>\n",
       "      <td>NaN</td>\n",
       "      <td>NaN</td>\n",
       "      <td>NaN</td>\n",
       "      <td>0.894209</td>\n",
       "      <td>0.891088</td>\n",
       "      <td>NaN</td>\n",
       "      <td>NaN</td>\n",
       "      <td>0.885755</td>\n",
       "      <td>NaN</td>\n",
       "      <td>NaN</td>\n",
       "      <td>NaN</td>\n",
       "      <td>NaN</td>\n",
       "      <td>0.003790</td>\n",
       "      <td>NaN</td>\n",
       "    </tr>\n",
       "    <tr>\n",
       "      <th>LogisticRegression</th>\n",
       "      <td>0.95</td>\n",
       "      <td>NaN</td>\n",
       "      <td>NaN</td>\n",
       "      <td>NaN</td>\n",
       "      <td>NaN</td>\n",
       "      <td>NaN</td>\n",
       "      <td>NaN</td>\n",
       "      <td>0.894209</td>\n",
       "      <td>0.891068</td>\n",
       "      <td>NaN</td>\n",
       "      <td>NaN</td>\n",
       "      <td>0.886098</td>\n",
       "      <td>NaN</td>\n",
       "      <td>NaN</td>\n",
       "      <td>NaN</td>\n",
       "      <td>l2</td>\n",
       "      <td>0.003764</td>\n",
       "      <td>NaN</td>\n",
       "    </tr>\n",
       "  </tbody>\n",
       "</table>\n",
       "</div>"
      ],
      "text/plain": [
       "                         C  alpha  gamma kernel  lambda  learning_rate  \\\n",
       "estimator                                                                \n",
       "ExtraTrees             NaN    NaN    NaN    NaN     NaN            NaN   \n",
       "XGBoost                NaN    0.9    0.9    NaN     0.9            0.7   \n",
       "GradientBoosting       NaN    NaN    NaN    NaN     NaN            1.0   \n",
       "RandomForest           NaN    NaN    NaN    NaN     NaN            NaN   \n",
       "BaggedDecisionTree     NaN    NaN    NaN    NaN     NaN            NaN   \n",
       "AdaBoost               NaN    NaN    NaN    NaN     NaN            1.0   \n",
       "DecisionTree           NaN    NaN    NaN    NaN     NaN            NaN   \n",
       "KNN                    NaN    NaN    NaN    NaN     NaN            NaN   \n",
       "SVM                   0.95    NaN    NaN    rbf     NaN            NaN   \n",
       "VanillaLogRegression   NaN    NaN    NaN    NaN     NaN            NaN   \n",
       "LogisticRegression    0.95    NaN    NaN    NaN     NaN            NaN   \n",
       "\n",
       "                      max_depth  max_score  mean_score  min_samples_leaf  \\\n",
       "estimator                                                                  \n",
       "ExtraTrees                 14.0   0.993679    0.990042               2.0   \n",
       "XGBoost                     3.0   0.998663    0.989186               NaN   \n",
       "GradientBoosting            3.0   0.997641    0.988665               NaN   \n",
       "RandomForest               10.0   0.993234    0.987162               NaN   \n",
       "BaggedDecisionTree          NaN   0.992237    0.985343               NaN   \n",
       "AdaBoost                    NaN   0.992859    0.981184               NaN   \n",
       "DecisionTree               14.0   0.986040    0.963768               2.0   \n",
       "KNN                         NaN   0.957351    0.955210               NaN   \n",
       "SVM                         NaN   0.956093    0.950815               NaN   \n",
       "VanillaLogRegression        NaN   0.894209    0.891088               NaN   \n",
       "LogisticRegression          NaN   0.894209    0.891068               NaN   \n",
       "\n",
       "                      min_samples_split  min_score  n_estimators  n_jobs  \\\n",
       "estimator                                                                  \n",
       "ExtraTrees                          3.0   0.984234         100.0     NaN   \n",
       "XGBoost                             NaN   0.971612         150.0     4.0   \n",
       "GradientBoosting                    NaN   0.972513         140.0     NaN   \n",
       "RandomForest                        4.0   0.976473         100.0     NaN   \n",
       "BaggedDecisionTree                  NaN   0.971917         100.0     NaN   \n",
       "AdaBoost                            NaN   0.962414         150.0     NaN   \n",
       "DecisionTree                        3.0   0.941868           NaN     NaN   \n",
       "KNN                                 NaN   0.953969           NaN     NaN   \n",
       "SVM                                 NaN   0.944603           NaN     NaN   \n",
       "VanillaLogRegression                NaN   0.885755           NaN     NaN   \n",
       "LogisticRegression                  NaN   0.886098           NaN     NaN   \n",
       "\n",
       "                      n_neighbors penalty  std_score  subsample  \n",
       "estimator                                                        \n",
       "ExtraTrees                    NaN     NaN   0.008602        NaN  \n",
       "XGBoost                       NaN     NaN   0.013637        0.5  \n",
       "GradientBoosting              NaN     NaN   0.020138        NaN  \n",
       "RandomForest                  NaN     NaN   0.012971        NaN  \n",
       "BaggedDecisionTree            NaN     NaN   0.013370        NaN  \n",
       "AdaBoost                      NaN     NaN   0.013435        NaN  \n",
       "DecisionTree                  NaN     NaN   0.025830        NaN  \n",
       "KNN                          21.0     NaN   0.006529        NaN  \n",
       "SVM                           NaN     NaN   0.006340        NaN  \n",
       "VanillaLogRegression          NaN     NaN   0.003790        NaN  \n",
       "LogisticRegression            NaN      l2   0.003764        NaN  "
      ]
     },
     "execution_count": 27,
     "metadata": {},
     "output_type": "execute_result"
    }
   ],
   "source": [
    "pd.pivot_table(score1,index='estimator',aggfunc='max').sort_values('mean_score',ascending=False)"
   ]
  },
  {
   "cell_type": "markdown",
   "metadata": {},
   "source": [
    "We create a dictionary with the best parameters of each of our models."
   ]
  },
  {
   "cell_type": "code",
   "execution_count": 6,
   "metadata": {},
   "outputs": [],
   "source": [
    "estimators = {\n",
    "    'XGB' : XGBClassifier(random_state = 42, gamma=0.9,learning_rate=0.7,max_depth=3,n_estimators=150,subsample=0.5),\n",
    "    'ADA' : AdaBoostClassifier(random_state = 42,learning_rate=0.7,n_estimators=150),\n",
    "    'GBoost' : GradientBoostingClassifier(random_state = 42,learning_rate=1.0,max_depth=3,n_estimators=140),\n",
    "    'SVC' : SVC(random_state = 42,kernel='rbf',probability=True,gamma='auto'),\n",
    "    'DecisionTree' : DecisionTreeClassifier(random_state = 42,max_depth=14,min_samples_leaf=2,min_samples_split=3),\n",
    "    'knn' : KNeighborsClassifier(n_neighbors=21),\n",
    "    'random forest' : RandomForestClassifier(random_state = 42,max_depth=10,min_samples_split=4,n_estimators=100),\n",
    "    'ef' : ExtraTreesClassifier(random_state = 42,min_samples_leaf=2,min_samples_split=3,n_estimators=100),\n",
    "    'lr with reg' : LogisticRegression(random_state = 42,penalty='l2',C=0.95),\n",
    "    'bagging classifier' : BaggingClassifier(random_state = 42,n_estimators=100),\n",
    "    'vanilla logistic regression' : LogisticRegression(random_state=42)\n",
    "}"
   ]
  },
  {
   "cell_type": "markdown",
   "metadata": {},
   "source": [
    "And we obtain the roc_auc scores and classification reports of all these models when tested on our holdout set."
   ]
  },
  {
   "cell_type": "code",
   "execution_count": 9,
   "metadata": {},
   "outputs": [
    {
     "name": "stdout",
     "output_type": "stream",
     "text": [
      "Results for  XGB :\n",
      "roc_auc_score0.8511722514735571\n",
      "              precision    recall  f1-score   support\n",
      "\n",
      "         0.0       0.96      0.96      0.96      2987\n",
      "         1.0       0.28      0.28      0.28       165\n",
      "\n",
      "   micro avg       0.92      0.92      0.92      3152\n",
      "   macro avg       0.62      0.62      0.62      3152\n",
      "weighted avg       0.92      0.92      0.92      3152\n",
      "\n",
      "Results for  ADA :\n",
      "roc_auc_score0.8431932312749186\n",
      "              precision    recall  f1-score   support\n",
      "\n",
      "         0.0       0.97      0.91      0.94      2987\n",
      "         1.0       0.25      0.53      0.34       165\n",
      "\n",
      "   micro avg       0.89      0.89      0.89      3152\n",
      "   macro avg       0.61      0.72      0.64      3152\n",
      "weighted avg       0.93      0.89      0.91      3152\n",
      "\n",
      "Results for  GBoost :\n",
      "roc_auc_score0.8277312799910723\n",
      "              precision    recall  f1-score   support\n",
      "\n",
      "         0.0       0.96      0.95      0.96      2987\n",
      "         1.0       0.24      0.28      0.26       165\n",
      "\n",
      "   micro avg       0.92      0.92      0.92      3152\n",
      "   macro avg       0.60      0.62      0.61      3152\n",
      "weighted avg       0.92      0.92      0.92      3152\n",
      "\n",
      "Results for  SVC :\n",
      "roc_auc_score0.7876211055990099\n",
      "              precision    recall  f1-score   support\n",
      "\n",
      "         0.0       0.97      0.85      0.90      2987\n",
      "         1.0       0.16      0.53      0.25       165\n",
      "\n",
      "   micro avg       0.83      0.83      0.83      3152\n",
      "   macro avg       0.57      0.69      0.58      3152\n",
      "weighted avg       0.93      0.83      0.87      3152\n",
      "\n",
      "Results for  DecisionTree :\n",
      "roc_auc_score0.7528309543374827\n",
      "              precision    recall  f1-score   support\n",
      "\n",
      "         0.0       0.96      0.94      0.95      2987\n",
      "         1.0       0.22      0.30      0.26       165\n",
      "\n",
      "   micro avg       0.91      0.91      0.91      3152\n",
      "   macro avg       0.59      0.62      0.60      3152\n",
      "weighted avg       0.92      0.91      0.91      3152\n",
      "\n",
      "Results for  knn :\n",
      "roc_auc_score0.686259650404277\n",
      "              precision    recall  f1-score   support\n",
      "\n",
      "         0.0       0.97      0.70      0.81      2987\n",
      "         1.0       0.10      0.58      0.16       165\n",
      "\n",
      "   micro avg       0.69      0.69      0.69      3152\n",
      "   macro avg       0.53      0.64      0.49      3152\n",
      "weighted avg       0.92      0.69      0.78      3152\n",
      "\n",
      "Results for  random forest :\n",
      "roc_auc_score0.8542553083564132\n",
      "              precision    recall  f1-score   support\n",
      "\n",
      "         0.0       0.97      0.90      0.93      2987\n",
      "         1.0       0.22      0.54      0.32       165\n",
      "\n",
      "   micro avg       0.88      0.88      0.88      3152\n",
      "   macro avg       0.60      0.72      0.62      3152\n",
      "weighted avg       0.93      0.88      0.90      3152\n",
      "\n",
      "Results for  ef :\n",
      "roc_auc_score0.8567895222732852\n",
      "              precision    recall  f1-score   support\n",
      "\n",
      "         0.0       0.96      0.95      0.96      2987\n",
      "         1.0       0.29      0.35      0.32       165\n",
      "\n",
      "   micro avg       0.92      0.92      0.92      3152\n",
      "   macro avg       0.63      0.65      0.64      3152\n",
      "weighted avg       0.93      0.92      0.92      3152\n",
      "\n"
     ]
    },
    {
     "name": "stderr",
     "output_type": "stream",
     "text": [
      "C:\\Users\\chang\\Anaconda3\\lib\\site-packages\\sklearn\\linear_model\\logistic.py:433: FutureWarning: Default solver will be changed to 'lbfgs' in 0.22. Specify a solver to silence this warning.\n",
      "  FutureWarning)\n"
     ]
    },
    {
     "name": "stdout",
     "output_type": "stream",
     "text": [
      "Results for  lr with reg :\n",
      "roc_auc_score0.7979324547787889\n",
      "              precision    recall  f1-score   support\n",
      "\n",
      "         0.0       0.98      0.79      0.87      2987\n",
      "         1.0       0.15      0.67      0.24       165\n",
      "\n",
      "   micro avg       0.78      0.78      0.78      3152\n",
      "   macro avg       0.56      0.73      0.56      3152\n",
      "weighted avg       0.93      0.78      0.84      3152\n",
      "\n",
      "Results for  bagging classifier :\n",
      "roc_auc_score0.7887309654969515\n",
      "              precision    recall  f1-score   support\n",
      "\n",
      "         0.0       0.96      0.96      0.96      2987\n",
      "         1.0       0.22      0.21      0.22       165\n",
      "\n",
      "   micro avg       0.92      0.92      0.92      3152\n",
      "   macro avg       0.59      0.59      0.59      3152\n",
      "weighted avg       0.92      0.92      0.92      3152\n",
      "\n"
     ]
    },
    {
     "name": "stderr",
     "output_type": "stream",
     "text": [
      "C:\\Users\\chang\\Anaconda3\\lib\\site-packages\\sklearn\\linear_model\\logistic.py:433: FutureWarning: Default solver will be changed to 'lbfgs' in 0.22. Specify a solver to silence this warning.\n",
      "  FutureWarning)\n"
     ]
    },
    {
     "name": "stdout",
     "output_type": "stream",
     "text": [
      "Results for  vanilla logistic regression :\n",
      "roc_auc_score0.7978431790283146\n",
      "              precision    recall  f1-score   support\n",
      "\n",
      "         0.0       0.98      0.79      0.87      2987\n",
      "         1.0       0.15      0.67      0.24       165\n",
      "\n",
      "   micro avg       0.78      0.78      0.78      3152\n",
      "   macro avg       0.56      0.73      0.56      3152\n",
      "weighted avg       0.93      0.78      0.84      3152\n",
      "\n"
     ]
    }
   ],
   "source": [
    "scores = []\n",
    "\n",
    "for e_name,estimator in estimators.items():\n",
    "    estimator.fit(sampledX,sampledy)\n",
    "    pred=estimator.predict(test_x)\n",
    "    fpr, tpr, _ = roc_curve(test_y, estimator.predict_proba(test_x)[:,1],pos_label=1)\n",
    "    precision, recall, _ = precision_recall_curve(test_y, estimator.predict_proba(test_x)[:,1],pos_label=1)\n",
    "    score = {'est':e_name,\n",
    "             'roc_curve':[fpr, tpr],\n",
    "             'prc':[precision,recall]}\n",
    "    scores.append(score)\n",
    "    print('Results for ',e_name,':')\n",
    "    print('roc_auc_score: '+str(roc_auc_score(test_y,estimator.predict_proba(test_x)[:,1])))\n",
    "    print(classification_report(test_y,pred))"
   ]
  },
  {
   "cell_type": "markdown",
   "metadata": {},
   "source": [
    "We decide on extra trees classifier as our best classification model (for Kaggle submission) as it gives us the best ROC AUC score at 0.856.<br/>\n",
    "It is interesting to note that a high roc_auc score might not necessarily imply a good recall score for the presence of the West Nile virus.<br/>\n",
    "This is due to how scoring on roc_auc aims to minimize false positives (while maximizing true positives) while using recall we wish to maximize true positives and allow as many false positives as needed. "
   ]
  },
  {
   "cell_type": "markdown",
   "metadata": {},
   "source": [
    "---\n",
    "# Prediction on Test Data<a id=pred></a>"
   ]
  },
  {
   "cell_type": "code",
   "execution_count": 95,
   "metadata": {},
   "outputs": [],
   "source": [
    "train=pd.read_csv(r'.\\data\\train_lag_Kaggle.csv')\n",
    "test=pd.read_csv(r'.\\data\\test_lag_Kaggle.csv')\n",
    "train.drop('Unnamed: 0',axis=1,inplace=True)\n",
    "test.drop('Unnamed: 0',axis=1,inplace=True)"
   ]
  },
  {
   "cell_type": "code",
   "execution_count": 96,
   "metadata": {},
   "outputs": [],
   "source": [
    "train['month']=train['month'].astype(str)\n",
    "test['month']=test['month'].astype(str)\n",
    "train_dummies = pd.get_dummies(train,drop_first=True,columns=['month','Species','Street']).astype('float64')\n",
    "test_dummies = pd.get_dummies(test,drop_first=True,columns=['month','Species','Street']).astype('float64')"
   ]
  },
  {
   "cell_type": "code",
   "execution_count": 97,
   "metadata": {},
   "outputs": [
    {
     "data": {
      "text/plain": [
       "['WnvPresent', 'month_5']"
      ]
     },
     "execution_count": 97,
     "metadata": {},
     "output_type": "execute_result"
    }
   ],
   "source": [
    "notintest=[x for x in list(train_dummies.columns) if x not in list(test_dummies.columns)]\n",
    "notintest"
   ]
  },
  {
   "cell_type": "code",
   "execution_count": 98,
   "metadata": {},
   "outputs": [
    {
     "data": {
      "text/plain": [
       "['Species_UNSPECIFIED CULEX',\n",
       " 'Street_ E 136TH ST',\n",
       " 'Street_ N KENNETH AVE',\n",
       " 'Street_ N KILBOURN AVE',\n",
       " 'Street_ N MELVINA AVE',\n",
       " 'Street_ S BALTIMORE AVE',\n",
       " 'Street_ S LOOMIS ST',\n",
       " 'Street_ S OGLESBY AVE',\n",
       " 'Street_ W 112TH ST',\n",
       " 'Street_ W 120TH ST',\n",
       " 'Street_ W 63RD PL',\n",
       " 'Street_ W DAKIN ST']"
      ]
     },
     "execution_count": 98,
     "metadata": {},
     "output_type": "execute_result"
    }
   ],
   "source": [
    "notintrain=[x for x in list(test_dummies.columns) if x not in list(train_dummies.columns)]\n",
    "notintrain"
   ]
  },
  {
   "cell_type": "code",
   "execution_count": 99,
   "metadata": {},
   "outputs": [
    {
     "name": "stderr",
     "output_type": "stream",
     "text": [
      "C:\\Users\\chang\\Anaconda3\\lib\\site-packages\\ipykernel_launcher.py:2: FutureWarning: Sorting because non-concatenation axis is not aligned. A future version\n",
      "of pandas will change to not sort by default.\n",
      "\n",
      "To accept the future behavior, pass 'sort=False'.\n",
      "\n",
      "To retain the current behavior and silence the warning, pass 'sort=True'.\n",
      "\n",
      "  \n"
     ]
    }
   ],
   "source": [
    "test_dummies['month_5']=0\n",
    "train_dummies=pd.concat([train_dummies,pd.DataFrame(columns=notintrain)]).fillna(0)"
   ]
  },
  {
   "cell_type": "code",
   "execution_count": 100,
   "metadata": {},
   "outputs": [
    {
     "name": "stderr",
     "output_type": "stream",
     "text": [
      "C:\\Users\\chang\\Anaconda3\\lib\\site-packages\\sklearn\\preprocessing\\data.py:645: DataConversionWarning: Data with input dtype int64, float64 were all converted to float64 by StandardScaler.\n",
      "  return self.partial_fit(X, y)\n",
      "C:\\Users\\chang\\Anaconda3\\lib\\site-packages\\sklearn\\base.py:464: DataConversionWarning: Data with input dtype int64, float64 were all converted to float64 by StandardScaler.\n",
      "  return self.fit(X, **fit_params).transform(X)\n",
      "C:\\Users\\chang\\Anaconda3\\lib\\site-packages\\ipykernel_launcher.py:5: DataConversionWarning: Data with input dtype int64, float64 were all converted to float64 by StandardScaler.\n",
      "  \"\"\"\n"
     ]
    }
   ],
   "source": [
    "y = train_dummies['WnvPresent']\n",
    "X = train_dummies[[col for col in train_dummies.columns if col != 'WnvPresent']]\n",
    "\n",
    "X=scaler.fit_transform(X)\n",
    "test=scaler.transform(test_dummies)\n",
    "X,y = sm.fit_sample(X,y)"
   ]
  },
  {
   "cell_type": "code",
   "execution_count": 101,
   "metadata": {},
   "outputs": [],
   "source": [
    "ET = ExtraTreesClassifier(random_state = 42,min_samples_leaf=2,min_samples_split=3,n_estimators=100)\n",
    "ET.fit(X,y)\n",
    "pred=ET.predict_proba(test)"
   ]
  },
  {
   "cell_type": "code",
   "execution_count": 102,
   "metadata": {},
   "outputs": [
    {
     "data": {
      "text/plain": [
       "array([[0.72471808, 0.27528192],\n",
       "       [0.72471808, 0.27528192],\n",
       "       [0.7299403 , 0.2700597 ],\n",
       "       ...,\n",
       "       [0.78203865, 0.21796135],\n",
       "       [0.78203865, 0.21796135],\n",
       "       [0.78203865, 0.21796135]])"
      ]
     },
     "execution_count": 102,
     "metadata": {},
     "output_type": "execute_result"
    }
   ],
   "source": [
    "pred"
   ]
  },
  {
   "cell_type": "code",
   "execution_count": 103,
   "metadata": {},
   "outputs": [
    {
     "data": {
      "text/html": [
       "<div>\n",
       "<style scoped>\n",
       "    .dataframe tbody tr th:only-of-type {\n",
       "        vertical-align: middle;\n",
       "    }\n",
       "\n",
       "    .dataframe tbody tr th {\n",
       "        vertical-align: top;\n",
       "    }\n",
       "\n",
       "    .dataframe thead th {\n",
       "        text-align: right;\n",
       "    }\n",
       "</style>\n",
       "<table border=\"1\" class=\"dataframe\">\n",
       "  <thead>\n",
       "    <tr style=\"text-align: right;\">\n",
       "      <th></th>\n",
       "      <th>WnvPresent</th>\n",
       "    </tr>\n",
       "    <tr>\n",
       "      <th>Id</th>\n",
       "      <th></th>\n",
       "    </tr>\n",
       "  </thead>\n",
       "  <tbody>\n",
       "    <tr>\n",
       "      <th>1</th>\n",
       "      <td>0.275282</td>\n",
       "    </tr>\n",
       "    <tr>\n",
       "      <th>2</th>\n",
       "      <td>0.275282</td>\n",
       "    </tr>\n",
       "    <tr>\n",
       "      <th>3</th>\n",
       "      <td>0.270060</td>\n",
       "    </tr>\n",
       "    <tr>\n",
       "      <th>4</th>\n",
       "      <td>0.275282</td>\n",
       "    </tr>\n",
       "    <tr>\n",
       "      <th>5</th>\n",
       "      <td>0.275282</td>\n",
       "    </tr>\n",
       "    <tr>\n",
       "      <th>6</th>\n",
       "      <td>0.275282</td>\n",
       "    </tr>\n",
       "    <tr>\n",
       "      <th>7</th>\n",
       "      <td>0.275282</td>\n",
       "    </tr>\n",
       "    <tr>\n",
       "      <th>8</th>\n",
       "      <td>0.275282</td>\n",
       "    </tr>\n",
       "    <tr>\n",
       "      <th>9</th>\n",
       "      <td>0.288734</td>\n",
       "    </tr>\n",
       "    <tr>\n",
       "      <th>10</th>\n",
       "      <td>0.288734</td>\n",
       "    </tr>\n",
       "    <tr>\n",
       "      <th>11</th>\n",
       "      <td>0.283511</td>\n",
       "    </tr>\n",
       "    <tr>\n",
       "      <th>12</th>\n",
       "      <td>0.288734</td>\n",
       "    </tr>\n",
       "    <tr>\n",
       "      <th>13</th>\n",
       "      <td>0.288734</td>\n",
       "    </tr>\n",
       "    <tr>\n",
       "      <th>14</th>\n",
       "      <td>0.288734</td>\n",
       "    </tr>\n",
       "    <tr>\n",
       "      <th>15</th>\n",
       "      <td>0.288734</td>\n",
       "    </tr>\n",
       "    <tr>\n",
       "      <th>16</th>\n",
       "      <td>0.288734</td>\n",
       "    </tr>\n",
       "    <tr>\n",
       "      <th>17</th>\n",
       "      <td>0.256063</td>\n",
       "    </tr>\n",
       "    <tr>\n",
       "      <th>18</th>\n",
       "      <td>0.256063</td>\n",
       "    </tr>\n",
       "    <tr>\n",
       "      <th>19</th>\n",
       "      <td>0.250841</td>\n",
       "    </tr>\n",
       "    <tr>\n",
       "      <th>20</th>\n",
       "      <td>0.256063</td>\n",
       "    </tr>\n",
       "    <tr>\n",
       "      <th>21</th>\n",
       "      <td>0.256063</td>\n",
       "    </tr>\n",
       "    <tr>\n",
       "      <th>22</th>\n",
       "      <td>0.256063</td>\n",
       "    </tr>\n",
       "    <tr>\n",
       "      <th>23</th>\n",
       "      <td>0.256063</td>\n",
       "    </tr>\n",
       "    <tr>\n",
       "      <th>24</th>\n",
       "      <td>0.256063</td>\n",
       "    </tr>\n",
       "    <tr>\n",
       "      <th>25</th>\n",
       "      <td>0.275282</td>\n",
       "    </tr>\n",
       "    <tr>\n",
       "      <th>26</th>\n",
       "      <td>0.275282</td>\n",
       "    </tr>\n",
       "    <tr>\n",
       "      <th>27</th>\n",
       "      <td>0.270060</td>\n",
       "    </tr>\n",
       "    <tr>\n",
       "      <th>28</th>\n",
       "      <td>0.275282</td>\n",
       "    </tr>\n",
       "    <tr>\n",
       "      <th>29</th>\n",
       "      <td>0.275282</td>\n",
       "    </tr>\n",
       "    <tr>\n",
       "      <th>30</th>\n",
       "      <td>0.275282</td>\n",
       "    </tr>\n",
       "    <tr>\n",
       "      <th>...</th>\n",
       "      <td>...</td>\n",
       "    </tr>\n",
       "    <tr>\n",
       "      <th>116264</th>\n",
       "      <td>0.216375</td>\n",
       "    </tr>\n",
       "    <tr>\n",
       "      <th>116265</th>\n",
       "      <td>0.217961</td>\n",
       "    </tr>\n",
       "    <tr>\n",
       "      <th>116266</th>\n",
       "      <td>0.217961</td>\n",
       "    </tr>\n",
       "    <tr>\n",
       "      <th>116267</th>\n",
       "      <td>0.217961</td>\n",
       "    </tr>\n",
       "    <tr>\n",
       "      <th>116268</th>\n",
       "      <td>0.217961</td>\n",
       "    </tr>\n",
       "    <tr>\n",
       "      <th>116269</th>\n",
       "      <td>0.217961</td>\n",
       "    </tr>\n",
       "    <tr>\n",
       "      <th>116270</th>\n",
       "      <td>0.210734</td>\n",
       "    </tr>\n",
       "    <tr>\n",
       "      <th>116271</th>\n",
       "      <td>0.210734</td>\n",
       "    </tr>\n",
       "    <tr>\n",
       "      <th>116272</th>\n",
       "      <td>0.210512</td>\n",
       "    </tr>\n",
       "    <tr>\n",
       "      <th>116273</th>\n",
       "      <td>0.210734</td>\n",
       "    </tr>\n",
       "    <tr>\n",
       "      <th>116274</th>\n",
       "      <td>0.210734</td>\n",
       "    </tr>\n",
       "    <tr>\n",
       "      <th>116275</th>\n",
       "      <td>0.210734</td>\n",
       "    </tr>\n",
       "    <tr>\n",
       "      <th>116276</th>\n",
       "      <td>0.210734</td>\n",
       "    </tr>\n",
       "    <tr>\n",
       "      <th>116277</th>\n",
       "      <td>0.210734</td>\n",
       "    </tr>\n",
       "    <tr>\n",
       "      <th>116278</th>\n",
       "      <td>0.191598</td>\n",
       "    </tr>\n",
       "    <tr>\n",
       "      <th>116279</th>\n",
       "      <td>0.191598</td>\n",
       "    </tr>\n",
       "    <tr>\n",
       "      <th>116280</th>\n",
       "      <td>0.190012</td>\n",
       "    </tr>\n",
       "    <tr>\n",
       "      <th>116281</th>\n",
       "      <td>0.191598</td>\n",
       "    </tr>\n",
       "    <tr>\n",
       "      <th>116282</th>\n",
       "      <td>0.191598</td>\n",
       "    </tr>\n",
       "    <tr>\n",
       "      <th>116283</th>\n",
       "      <td>0.191598</td>\n",
       "    </tr>\n",
       "    <tr>\n",
       "      <th>116284</th>\n",
       "      <td>0.191598</td>\n",
       "    </tr>\n",
       "    <tr>\n",
       "      <th>116285</th>\n",
       "      <td>0.191598</td>\n",
       "    </tr>\n",
       "    <tr>\n",
       "      <th>116286</th>\n",
       "      <td>0.217961</td>\n",
       "    </tr>\n",
       "    <tr>\n",
       "      <th>116287</th>\n",
       "      <td>0.217961</td>\n",
       "    </tr>\n",
       "    <tr>\n",
       "      <th>116288</th>\n",
       "      <td>0.216375</td>\n",
       "    </tr>\n",
       "    <tr>\n",
       "      <th>116289</th>\n",
       "      <td>0.217961</td>\n",
       "    </tr>\n",
       "    <tr>\n",
       "      <th>116290</th>\n",
       "      <td>0.217961</td>\n",
       "    </tr>\n",
       "    <tr>\n",
       "      <th>116291</th>\n",
       "      <td>0.217961</td>\n",
       "    </tr>\n",
       "    <tr>\n",
       "      <th>116292</th>\n",
       "      <td>0.217961</td>\n",
       "    </tr>\n",
       "    <tr>\n",
       "      <th>116293</th>\n",
       "      <td>0.217961</td>\n",
       "    </tr>\n",
       "  </tbody>\n",
       "</table>\n",
       "<p>116293 rows × 1 columns</p>\n",
       "</div>"
      ],
      "text/plain": [
       "        WnvPresent\n",
       "Id                \n",
       "1         0.275282\n",
       "2         0.275282\n",
       "3         0.270060\n",
       "4         0.275282\n",
       "5         0.275282\n",
       "6         0.275282\n",
       "7         0.275282\n",
       "8         0.275282\n",
       "9         0.288734\n",
       "10        0.288734\n",
       "11        0.283511\n",
       "12        0.288734\n",
       "13        0.288734\n",
       "14        0.288734\n",
       "15        0.288734\n",
       "16        0.288734\n",
       "17        0.256063\n",
       "18        0.256063\n",
       "19        0.250841\n",
       "20        0.256063\n",
       "21        0.256063\n",
       "22        0.256063\n",
       "23        0.256063\n",
       "24        0.256063\n",
       "25        0.275282\n",
       "26        0.275282\n",
       "27        0.270060\n",
       "28        0.275282\n",
       "29        0.275282\n",
       "30        0.275282\n",
       "...            ...\n",
       "116264    0.216375\n",
       "116265    0.217961\n",
       "116266    0.217961\n",
       "116267    0.217961\n",
       "116268    0.217961\n",
       "116269    0.217961\n",
       "116270    0.210734\n",
       "116271    0.210734\n",
       "116272    0.210512\n",
       "116273    0.210734\n",
       "116274    0.210734\n",
       "116275    0.210734\n",
       "116276    0.210734\n",
       "116277    0.210734\n",
       "116278    0.191598\n",
       "116279    0.191598\n",
       "116280    0.190012\n",
       "116281    0.191598\n",
       "116282    0.191598\n",
       "116283    0.191598\n",
       "116284    0.191598\n",
       "116285    0.191598\n",
       "116286    0.217961\n",
       "116287    0.217961\n",
       "116288    0.216375\n",
       "116289    0.217961\n",
       "116290    0.217961\n",
       "116291    0.217961\n",
       "116292    0.217961\n",
       "116293    0.217961\n",
       "\n",
       "[116293 rows x 1 columns]"
      ]
     },
     "execution_count": 103,
     "metadata": {},
     "output_type": "execute_result"
    }
   ],
   "source": [
    "predictions=pd.DataFrame(pred)[[1]]\n",
    "predictions.index.name='Id'\n",
    "predictions.index+=1\n",
    "predictions.columns=['WnvPresent']\n",
    "predictions"
   ]
  },
  {
   "cell_type": "code",
   "execution_count": 104,
   "metadata": {},
   "outputs": [],
   "source": [
    "predictions.to_csv(r'.\\data\\predictions.csv')"
   ]
  },
  {
   "cell_type": "code",
   "execution_count": null,
   "metadata": {},
   "outputs": [],
   "source": []
  }
 ],
 "metadata": {
  "kernelspec": {
   "display_name": "Python 3",
   "language": "python",
   "name": "python3"
  },
  "language_info": {
   "codemirror_mode": {
    "name": "ipython",
    "version": 3
   },
   "file_extension": ".py",
   "mimetype": "text/x-python",
   "name": "python",
   "nbconvert_exporter": "python",
   "pygments_lexer": "ipython3",
   "version": "3.7.3"
  }
 },
 "nbformat": 4,
 "nbformat_minor": 2
}
