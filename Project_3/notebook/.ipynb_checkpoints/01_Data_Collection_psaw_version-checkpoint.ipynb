{
 "cells": [
  {
   "cell_type": "markdown",
   "metadata": {},
   "source": [
    "## Reference"
   ]
  },
  {
   "cell_type": "markdown",
   "metadata": {},
   "source": [
    "https://github.com/dmarx/psaw"
   ]
  },
  {
   "cell_type": "code",
   "execution_count": 1,
   "metadata": {},
   "outputs": [],
   "source": [
    "import pandas as pd\n",
    "\n",
    "from psaw import PushshiftAPI"
   ]
  },
  {
   "cell_type": "markdown",
   "metadata": {},
   "source": [
    "## Get the posts from Harry Potter subreddit"
   ]
  },
  {
   "cell_type": "code",
   "execution_count": 2,
   "metadata": {},
   "outputs": [],
   "source": [
    "api = PushshiftAPI()\n",
    "hp_reddits = list(api.search_submissions(subreddit='harrypotter',\n",
    "                                          filter=['url','author','title','subreddit','selftext'],\n",
    "                                          limit=5000))"
   ]
  },
  {
   "cell_type": "code",
   "execution_count": 3,
   "metadata": {},
   "outputs": [],
   "source": [
    "hp_df = pd.DataFrame(hp_reddits)"
   ]
  },
  {
   "cell_type": "code",
   "execution_count": 4,
   "metadata": {},
   "outputs": [
    {
     "data": {
      "text/html": [
       "<div>\n",
       "<style scoped>\n",
       "    .dataframe tbody tr th:only-of-type {\n",
       "        vertical-align: middle;\n",
       "    }\n",
       "\n",
       "    .dataframe tbody tr th {\n",
       "        vertical-align: top;\n",
       "    }\n",
       "\n",
       "    .dataframe thead th {\n",
       "        text-align: right;\n",
       "    }\n",
       "</style>\n",
       "<table border=\"1\" class=\"dataframe\">\n",
       "  <thead>\n",
       "    <tr style=\"text-align: right;\">\n",
       "      <th></th>\n",
       "      <th>author</th>\n",
       "      <th>created_utc</th>\n",
       "      <th>selftext</th>\n",
       "      <th>subreddit</th>\n",
       "      <th>title</th>\n",
       "      <th>url</th>\n",
       "      <th>created</th>\n",
       "      <th>d_</th>\n",
       "    </tr>\n",
       "  </thead>\n",
       "  <tbody>\n",
       "    <tr>\n",
       "      <th>0</th>\n",
       "      <td>Hoshcof</td>\n",
       "      <td>1561050745</td>\n",
       "      <td>If wizards and witches can use floo powder as ...</td>\n",
       "      <td>harrypotter</td>\n",
       "      <td>Question about communication</td>\n",
       "      <td>https://www.reddit.com/r/harrypotter/comments/...</td>\n",
       "      <td>1.561022e+09</td>\n",
       "      <td>{'author': 'Hoshcof', 'created_utc': 156105074...</td>\n",
       "    </tr>\n",
       "    <tr>\n",
       "      <th>1</th>\n",
       "      <td>punkiy50</td>\n",
       "      <td>1561049531</td>\n",
       "      <td>Let's be Friends in Harry Potter: Wizards Unit...</td>\n",
       "      <td>harrypotter</td>\n",
       "      <td>Add ne guys</td>\n",
       "      <td>https://www.reddit.com/r/harrypotter/comments/...</td>\n",
       "      <td>1.561021e+09</td>\n",
       "      <td>{'author': 'punkiy50', 'created_utc': 15610495...</td>\n",
       "    </tr>\n",
       "    <tr>\n",
       "      <th>2</th>\n",
       "      <td>jugheadpotter_</td>\n",
       "      <td>1561049462</td>\n",
       "      <td></td>\n",
       "      <td>harrypotter</td>\n",
       "      <td>Harry Potter fans trying to brainstorm why Har...</td>\n",
       "      <td>https://i.redd.it/t27v6680kj531.jpg</td>\n",
       "      <td>1.561021e+09</td>\n",
       "      <td>{'author': 'jugheadpotter_', 'created_utc': 15...</td>\n",
       "    </tr>\n",
       "    <tr>\n",
       "      <th>3</th>\n",
       "      <td>sock-zilla</td>\n",
       "      <td>1561049193</td>\n",
       "      <td></td>\n",
       "      <td>harrypotter</td>\n",
       "      <td>Just found this cool golden snitch necklace watch</td>\n",
       "      <td>https://www.geekyfandom.com/collections/pocket...</td>\n",
       "      <td>1.561020e+09</td>\n",
       "      <td>{'author': 'sock-zilla', 'created_utc': 156104...</td>\n",
       "    </tr>\n",
       "    <tr>\n",
       "      <th>4</th>\n",
       "      <td>Sleeper____Service</td>\n",
       "      <td>1561047398</td>\n",
       "      <td>Ginny Weasley is a horse girl.</td>\n",
       "      <td>harrypotter</td>\n",
       "      <td>I just learned that Ginny Weasley's patronus i...</td>\n",
       "      <td>https://www.reddit.com/r/harrypotter/comments/...</td>\n",
       "      <td>1.561019e+09</td>\n",
       "      <td>{'author': 'Sleeper____Service', 'created_utc'...</td>\n",
       "    </tr>\n",
       "  </tbody>\n",
       "</table>\n",
       "</div>"
      ],
      "text/plain": [
       "               author  created_utc  \\\n",
       "0             Hoshcof   1561050745   \n",
       "1            punkiy50   1561049531   \n",
       "2      jugheadpotter_   1561049462   \n",
       "3          sock-zilla   1561049193   \n",
       "4  Sleeper____Service   1561047398   \n",
       "\n",
       "                                            selftext    subreddit  \\\n",
       "0  If wizards and witches can use floo powder as ...  harrypotter   \n",
       "1  Let's be Friends in Harry Potter: Wizards Unit...  harrypotter   \n",
       "2                                                     harrypotter   \n",
       "3                                                     harrypotter   \n",
       "4                     Ginny Weasley is a horse girl.  harrypotter   \n",
       "\n",
       "                                               title  \\\n",
       "0                       Question about communication   \n",
       "1                                        Add ne guys   \n",
       "2  Harry Potter fans trying to brainstorm why Har...   \n",
       "3  Just found this cool golden snitch necklace watch   \n",
       "4  I just learned that Ginny Weasley's patronus i...   \n",
       "\n",
       "                                                 url       created  \\\n",
       "0  https://www.reddit.com/r/harrypotter/comments/...  1.561022e+09   \n",
       "1  https://www.reddit.com/r/harrypotter/comments/...  1.561021e+09   \n",
       "2                https://i.redd.it/t27v6680kj531.jpg  1.561021e+09   \n",
       "3  https://www.geekyfandom.com/collections/pocket...  1.561020e+09   \n",
       "4  https://www.reddit.com/r/harrypotter/comments/...  1.561019e+09   \n",
       "\n",
       "                                                  d_  \n",
       "0  {'author': 'Hoshcof', 'created_utc': 156105074...  \n",
       "1  {'author': 'punkiy50', 'created_utc': 15610495...  \n",
       "2  {'author': 'jugheadpotter_', 'created_utc': 15...  \n",
       "3  {'author': 'sock-zilla', 'created_utc': 156104...  \n",
       "4  {'author': 'Sleeper____Service', 'created_utc'...  "
      ]
     },
     "execution_count": 4,
     "metadata": {},
     "output_type": "execute_result"
    }
   ],
   "source": [
    "hp_df.head()"
   ]
  },
  {
   "cell_type": "code",
   "execution_count": 5,
   "metadata": {},
   "outputs": [],
   "source": [
    "hp_df = hp_df.query(\"selftext != '' and selftext != '[deleted]' and selftext != '[removed]'\")"
   ]
  },
  {
   "cell_type": "code",
   "execution_count": 6,
   "metadata": {},
   "outputs": [
    {
     "data": {
      "text/plain": [
       "(2885, 8)"
      ]
     },
     "execution_count": 6,
     "metadata": {},
     "output_type": "execute_result"
    }
   ],
   "source": [
    "hp_df.shape"
   ]
  },
  {
   "cell_type": "code",
   "execution_count": 7,
   "metadata": {},
   "outputs": [],
   "source": [
    "hp_df.drop(['d_'],axis=1,inplace=True)"
   ]
  },
  {
   "cell_type": "code",
   "execution_count": 8,
   "metadata": {},
   "outputs": [],
   "source": [
    "hp_df.to_csv('../data/harrypotter.csv')"
   ]
  },
  {
   "cell_type": "markdown",
   "metadata": {},
   "source": [
    "## Get the posts from Fantastic Beasts subreddit"
   ]
  },
  {
   "cell_type": "code",
   "execution_count": 85,
   "metadata": {},
   "outputs": [],
   "source": [
    "api = PushshiftAPI()\n",
    "fb_reddits = list(api.search_submissions(subreddit='fantasticbeasts',\n",
    "                                          filter=['url','author','title','subreddit','selftext'],\n",
    "                                          limit=5000))"
   ]
  },
  {
   "cell_type": "code",
   "execution_count": 86,
   "metadata": {},
   "outputs": [],
   "source": [
    "fb_df = pd.DataFrame(fb_reddits)"
   ]
  },
  {
   "cell_type": "code",
   "execution_count": 87,
   "metadata": {},
   "outputs": [
    {
     "data": {
      "text/html": [
       "<div>\n",
       "<style scoped>\n",
       "    .dataframe tbody tr th:only-of-type {\n",
       "        vertical-align: middle;\n",
       "    }\n",
       "\n",
       "    .dataframe tbody tr th {\n",
       "        vertical-align: top;\n",
       "    }\n",
       "\n",
       "    .dataframe thead th {\n",
       "        text-align: right;\n",
       "    }\n",
       "</style>\n",
       "<table border=\"1\" class=\"dataframe\">\n",
       "  <thead>\n",
       "    <tr style=\"text-align: right;\">\n",
       "      <th></th>\n",
       "      <th>author</th>\n",
       "      <th>created_utc</th>\n",
       "      <th>selftext</th>\n",
       "      <th>subreddit</th>\n",
       "      <th>title</th>\n",
       "      <th>url</th>\n",
       "      <th>created</th>\n",
       "      <th>d_</th>\n",
       "    </tr>\n",
       "  </thead>\n",
       "  <tbody>\n",
       "    <tr>\n",
       "      <th>0</th>\n",
       "      <td>thewoodenangel</td>\n",
       "      <td>1560394262</td>\n",
       "      <td></td>\n",
       "      <td>FantasticBeasts</td>\n",
       "      <td>“You never met a monster you couldn’t love.”</td>\n",
       "      <td>https://i.redd.it/z8cf51fpf1431.jpg</td>\n",
       "      <td>1.56037e+09</td>\n",
       "      <td>{'author': 'thewoodenangel', 'created_utc': 15...</td>\n",
       "    </tr>\n",
       "    <tr>\n",
       "      <th>1</th>\n",
       "      <td>Harelievre</td>\n",
       "      <td>1560072582</td>\n",
       "      <td></td>\n",
       "      <td>FantasticBeasts</td>\n",
       "      <td>✅FANTASTIC BEASTS CRIMES OF GRINDELWALD- PICKE...</td>\n",
       "      <td>https://www.youtube.com/watch?v=mHeCGDJQPtA</td>\n",
       "      <td>1.56004e+09</td>\n",
       "      <td>{'author': 'Harelievre', 'created_utc': 156007...</td>\n",
       "    </tr>\n",
       "    <tr>\n",
       "      <th>2</th>\n",
       "      <td>CynthiaChames</td>\n",
       "      <td>1560009667</td>\n",
       "      <td></td>\n",
       "      <td>FantasticBeasts</td>\n",
       "      <td>I just realized that Fantastic Beasts 3 is com...</td>\n",
       "      <td>https://www.reddit.com/r/FantasticBeasts/comme...</td>\n",
       "      <td>1.55998e+09</td>\n",
       "      <td>{'author': 'CynthiaChames', 'created_utc': 156...</td>\n",
       "    </tr>\n",
       "    <tr>\n",
       "      <th>3</th>\n",
       "      <td>OlleLemon</td>\n",
       "      <td>1559924405</td>\n",
       "      <td></td>\n",
       "      <td>FantasticBeasts</td>\n",
       "      <td>When do you think the title for the Fantastic ...</td>\n",
       "      <td>https://www.reddit.com/r/FantasticBeasts/comme...</td>\n",
       "      <td>1.5599e+09</td>\n",
       "      <td>{'author': 'OlleLemon', 'created_utc': 1559924...</td>\n",
       "    </tr>\n",
       "    <tr>\n",
       "      <th>4</th>\n",
       "      <td>CyberTowhead</td>\n",
       "      <td>1559732366</td>\n",
       "      <td></td>\n",
       "      <td>FantasticBeasts</td>\n",
       "      <td>Does anyone know where i can find Newt Scamand...</td>\n",
       "      <td>https://i.redd.it/igea8nqlri231.jpg</td>\n",
       "      <td>1.5597e+09</td>\n",
       "      <td>{'author': 'CyberTowhead', 'created_utc': 1559...</td>\n",
       "    </tr>\n",
       "  </tbody>\n",
       "</table>\n",
       "</div>"
      ],
      "text/plain": [
       "           author  created_utc selftext        subreddit  \\\n",
       "0  thewoodenangel   1560394262           FantasticBeasts   \n",
       "1      Harelievre   1560072582           FantasticBeasts   \n",
       "2   CynthiaChames   1560009667           FantasticBeasts   \n",
       "3       OlleLemon   1559924405           FantasticBeasts   \n",
       "4    CyberTowhead   1559732366           FantasticBeasts   \n",
       "\n",
       "                                               title  \\\n",
       "0       “You never met a monster you couldn’t love.”   \n",
       "1  ✅FANTASTIC BEASTS CRIMES OF GRINDELWALD- PICKE...   \n",
       "2  I just realized that Fantastic Beasts 3 is com...   \n",
       "3  When do you think the title for the Fantastic ...   \n",
       "4  Does anyone know where i can find Newt Scamand...   \n",
       "\n",
       "                                                 url      created  \\\n",
       "0                https://i.redd.it/z8cf51fpf1431.jpg  1.56037e+09   \n",
       "1        https://www.youtube.com/watch?v=mHeCGDJQPtA  1.56004e+09   \n",
       "2  https://www.reddit.com/r/FantasticBeasts/comme...  1.55998e+09   \n",
       "3  https://www.reddit.com/r/FantasticBeasts/comme...   1.5599e+09   \n",
       "4                https://i.redd.it/igea8nqlri231.jpg   1.5597e+09   \n",
       "\n",
       "                                                  d_  \n",
       "0  {'author': 'thewoodenangel', 'created_utc': 15...  \n",
       "1  {'author': 'Harelievre', 'created_utc': 156007...  \n",
       "2  {'author': 'CynthiaChames', 'created_utc': 156...  \n",
       "3  {'author': 'OlleLemon', 'created_utc': 1559924...  \n",
       "4  {'author': 'CyberTowhead', 'created_utc': 1559...  "
      ]
     },
     "execution_count": 87,
     "metadata": {},
     "output_type": "execute_result"
    }
   ],
   "source": [
    "fb_df.head()"
   ]
  },
  {
   "cell_type": "code",
   "execution_count": 88,
   "metadata": {},
   "outputs": [],
   "source": [
    "fb_df = fb_df.query(\"selftext != '' and selftext != '[deleted]' and selftext != '[removed]'\")"
   ]
  },
  {
   "cell_type": "code",
   "execution_count": 89,
   "metadata": {},
   "outputs": [
    {
     "data": {
      "text/plain": [
       "(1221, 8)"
      ]
     },
     "execution_count": 89,
     "metadata": {},
     "output_type": "execute_result"
    }
   ],
   "source": [
    "fb_df.shape"
   ]
  },
  {
   "cell_type": "code",
   "execution_count": 90,
   "metadata": {},
   "outputs": [],
   "source": [
    "fb_df.drop(['d_'],axis=1,inplace=True)"
   ]
  },
  {
   "cell_type": "code",
   "execution_count": 91,
   "metadata": {},
   "outputs": [],
   "source": [
    "fb_df.to_csv('../data/fantasticbeasts.csv')"
   ]
  }
 ],
 "metadata": {
  "kernelspec": {
   "display_name": "Python 3",
   "language": "python",
   "name": "python3"
  },
  "language_info": {
   "codemirror_mode": {
    "name": "ipython",
    "version": 3
   },
   "file_extension": ".py",
   "mimetype": "text/x-python",
   "name": "python",
   "nbconvert_exporter": "python",
   "pygments_lexer": "ipython3",
   "version": "3.6.8"
  }
 },
 "nbformat": 4,
 "nbformat_minor": 2
}
