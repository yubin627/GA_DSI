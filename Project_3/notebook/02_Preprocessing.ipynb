{
 "cells": [
  {
   "cell_type": "markdown",
   "metadata": {},
   "source": [
    "## Import libraries"
   ]
  },
  {
   "cell_type": "code",
   "execution_count": 1,
   "metadata": {},
   "outputs": [],
   "source": [
    "import pandas as pd\n",
    "import numpy as np\n",
    "import re\n",
    "\n",
    "# preprocessing imports\n",
    "from nltk.tokenize import RegexpTokenizer\n",
    "from nltk.stem import WordNetLemmatizer\n",
    "from nltk.stem.porter import PorterStemmer\n",
    "from sklearn.model_selection import train_test_split\n",
    "from sklearn.feature_extraction.text import CountVectorizer, TfidfTransformer, TfidfVectorizer \n",
    "\n",
    "import warnings\n",
    "warnings.filterwarnings('ignore')"
   ]
  },
  {
   "cell_type": "markdown",
   "metadata": {},
   "source": [
    "## Load datasets"
   ]
  },
  {
   "cell_type": "code",
   "execution_count": 2,
   "metadata": {},
   "outputs": [
    {
     "name": "stdout",
     "output_type": "stream",
     "text": [
      "<class 'pandas.core.frame.DataFrame'>\n",
      "Int64Index: 2885 entries, 0 to 4988\n",
      "Data columns (total 7 columns):\n",
      "author         2885 non-null object\n",
      "created_utc    2885 non-null int64\n",
      "selftext       2885 non-null object\n",
      "subreddit      2885 non-null object\n",
      "title          2885 non-null object\n",
      "url            2885 non-null object\n",
      "created        2885 non-null float64\n",
      "dtypes: float64(1), int64(1), object(5)\n",
      "memory usage: 180.3+ KB\n"
     ]
    }
   ],
   "source": [
    "hp_df = pd.read_csv(\"../data/harrypotter.csv\", encoding=\"utf-8\", index_col=0)\n",
    "hp_df.info()"
   ]
  },
  {
   "cell_type": "code",
   "execution_count": 3,
   "metadata": {},
   "outputs": [],
   "source": [
    "# Change created_utc column to datetime datetime datatype\n",
    "hp_df['created_utc'] = pd.to_datetime(hp_df['created_utc'],unit='s')"
   ]
  },
  {
   "cell_type": "code",
   "execution_count": 4,
   "metadata": {},
   "outputs": [
    {
     "data": {
      "text/html": [
       "<div>\n",
       "<style scoped>\n",
       "    .dataframe tbody tr th:only-of-type {\n",
       "        vertical-align: middle;\n",
       "    }\n",
       "\n",
       "    .dataframe tbody tr th {\n",
       "        vertical-align: top;\n",
       "    }\n",
       "\n",
       "    .dataframe thead th {\n",
       "        text-align: right;\n",
       "    }\n",
       "</style>\n",
       "<table border=\"1\" class=\"dataframe\">\n",
       "  <thead>\n",
       "    <tr style=\"text-align: right;\">\n",
       "      <th></th>\n",
       "      <th>author</th>\n",
       "      <th>created_utc</th>\n",
       "      <th>selftext</th>\n",
       "      <th>subreddit</th>\n",
       "      <th>title</th>\n",
       "      <th>url</th>\n",
       "      <th>created</th>\n",
       "    </tr>\n",
       "  </thead>\n",
       "  <tbody>\n",
       "    <tr>\n",
       "      <th>0</th>\n",
       "      <td>Hoshcof</td>\n",
       "      <td>2019-06-20 17:12:25</td>\n",
       "      <td>If wizards and witches can use floo powder as ...</td>\n",
       "      <td>harrypotter</td>\n",
       "      <td>Question about communication</td>\n",
       "      <td>https://www.reddit.com/r/harrypotter/comments/...</td>\n",
       "      <td>1.561022e+09</td>\n",
       "    </tr>\n",
       "    <tr>\n",
       "      <th>1</th>\n",
       "      <td>punkiy50</td>\n",
       "      <td>2019-06-20 16:52:11</td>\n",
       "      <td>Let's be Friends in Harry Potter: Wizards Unit...</td>\n",
       "      <td>harrypotter</td>\n",
       "      <td>Add ne guys</td>\n",
       "      <td>https://www.reddit.com/r/harrypotter/comments/...</td>\n",
       "      <td>1.561021e+09</td>\n",
       "    </tr>\n",
       "    <tr>\n",
       "      <th>4</th>\n",
       "      <td>Sleeper____Service</td>\n",
       "      <td>2019-06-20 16:16:38</td>\n",
       "      <td>Ginny Weasley is a horse girl.</td>\n",
       "      <td>harrypotter</td>\n",
       "      <td>I just learned that Ginny Weasley's patronus i...</td>\n",
       "      <td>https://www.reddit.com/r/harrypotter/comments/...</td>\n",
       "      <td>1.561019e+09</td>\n",
       "    </tr>\n",
       "    <tr>\n",
       "      <th>5</th>\n",
       "      <td>boujee-bob</td>\n",
       "      <td>2019-06-20 16:09:56</td>\n",
       "      <td>Doing yet another re read (never gets old) but...</td>\n",
       "      <td>harrypotter</td>\n",
       "      <td>Did Dumbledore know Lockhart was a fraud when ...</td>\n",
       "      <td>https://www.reddit.com/r/harrypotter/comments/...</td>\n",
       "      <td>1.561018e+09</td>\n",
       "    </tr>\n",
       "    <tr>\n",
       "      <th>7</th>\n",
       "      <td>KingAchilles08</td>\n",
       "      <td>2019-06-20 16:07:31</td>\n",
       "      <td>Add me on the game! 3944 6644 2348\\n\\nSee you ...</td>\n",
       "      <td>harrypotter</td>\n",
       "      <td>Harry Potter Wizards Unite Friend code</td>\n",
       "      <td>https://www.reddit.com/r/harrypotter/comments/...</td>\n",
       "      <td>1.561018e+09</td>\n",
       "    </tr>\n",
       "  </tbody>\n",
       "</table>\n",
       "</div>"
      ],
      "text/plain": [
       "               author         created_utc  \\\n",
       "0             Hoshcof 2019-06-20 17:12:25   \n",
       "1            punkiy50 2019-06-20 16:52:11   \n",
       "4  Sleeper____Service 2019-06-20 16:16:38   \n",
       "5          boujee-bob 2019-06-20 16:09:56   \n",
       "7      KingAchilles08 2019-06-20 16:07:31   \n",
       "\n",
       "                                            selftext    subreddit  \\\n",
       "0  If wizards and witches can use floo powder as ...  harrypotter   \n",
       "1  Let's be Friends in Harry Potter: Wizards Unit...  harrypotter   \n",
       "4                     Ginny Weasley is a horse girl.  harrypotter   \n",
       "5  Doing yet another re read (never gets old) but...  harrypotter   \n",
       "7  Add me on the game! 3944 6644 2348\\n\\nSee you ...  harrypotter   \n",
       "\n",
       "                                               title  \\\n",
       "0                       Question about communication   \n",
       "1                                        Add ne guys   \n",
       "4  I just learned that Ginny Weasley's patronus i...   \n",
       "5  Did Dumbledore know Lockhart was a fraud when ...   \n",
       "7             Harry Potter Wizards Unite Friend code   \n",
       "\n",
       "                                                 url       created  \n",
       "0  https://www.reddit.com/r/harrypotter/comments/...  1.561022e+09  \n",
       "1  https://www.reddit.com/r/harrypotter/comments/...  1.561021e+09  \n",
       "4  https://www.reddit.com/r/harrypotter/comments/...  1.561019e+09  \n",
       "5  https://www.reddit.com/r/harrypotter/comments/...  1.561018e+09  \n",
       "7  https://www.reddit.com/r/harrypotter/comments/...  1.561018e+09  "
      ]
     },
     "execution_count": 4,
     "metadata": {},
     "output_type": "execute_result"
    }
   ],
   "source": [
    "# Confirm data format is correct\n",
    "hp_df.head()"
   ]
  },
  {
   "cell_type": "code",
   "execution_count": 5,
   "metadata": {},
   "outputs": [],
   "source": [
    "# Add a binary label \n",
    "hp_df['is_hp'] = 1\n",
    "# Remove redundant datetime column\n",
    "hp_df.drop('created',axis=1,inplace=True)"
   ]
  },
  {
   "cell_type": "code",
   "execution_count": 6,
   "metadata": {},
   "outputs": [
    {
     "data": {
      "text/html": [
       "<div>\n",
       "<style scoped>\n",
       "    .dataframe tbody tr th:only-of-type {\n",
       "        vertical-align: middle;\n",
       "    }\n",
       "\n",
       "    .dataframe tbody tr th {\n",
       "        vertical-align: top;\n",
       "    }\n",
       "\n",
       "    .dataframe thead th {\n",
       "        text-align: right;\n",
       "    }\n",
       "</style>\n",
       "<table border=\"1\" class=\"dataframe\">\n",
       "  <thead>\n",
       "    <tr style=\"text-align: right;\">\n",
       "      <th></th>\n",
       "      <th>author</th>\n",
       "      <th>created_utc</th>\n",
       "      <th>selftext</th>\n",
       "      <th>subreddit</th>\n",
       "      <th>title</th>\n",
       "      <th>url</th>\n",
       "      <th>created</th>\n",
       "    </tr>\n",
       "  </thead>\n",
       "  <tbody>\n",
       "    <tr>\n",
       "      <th>6</th>\n",
       "      <td>Zivio104</td>\n",
       "      <td>1559566660</td>\n",
       "      <td>Don't get me wrong I really like this series d...</td>\n",
       "      <td>FantasticBeasts</td>\n",
       "      <td>The problem I have with this series</td>\n",
       "      <td>https://www.reddit.com/r/FantasticBeasts/comme...</td>\n",
       "      <td>1559537860.0</td>\n",
       "    </tr>\n",
       "    <tr>\n",
       "      <th>9</th>\n",
       "      <td>MetalVenomLudens</td>\n",
       "      <td>1559486360</td>\n",
       "      <td>Mods can remove this if they feel this post is...</td>\n",
       "      <td>FantasticBeasts</td>\n",
       "      <td>Should we create a Discord server for Fantasti...</td>\n",
       "      <td>https://www.reddit.com/r/FantasticBeasts/comme...</td>\n",
       "      <td>1559457560.0</td>\n",
       "    </tr>\n",
       "    <tr>\n",
       "      <th>10</th>\n",
       "      <td>MetalVenomLudens</td>\n",
       "      <td>1559486294</td>\n",
       "      <td>Mods can remove this if they feel this post is...</td>\n",
       "      <td>FantasticBeasts</td>\n",
       "      <td>Should we create a Discord server for Fantasti...</td>\n",
       "      <td>https://www.reddit.com/r/FantasticBeasts/comme...</td>\n",
       "      <td>1559457494.0</td>\n",
       "    </tr>\n",
       "    <tr>\n",
       "      <th>11</th>\n",
       "      <td>Stephen111110</td>\n",
       "      <td>1559479412</td>\n",
       "      <td>I wont go too deep incase of spoilers. But.\\nT...</td>\n",
       "      <td>FantasticBeasts</td>\n",
       "      <td>Theory on Credence</td>\n",
       "      <td>https://www.reddit.com/r/FantasticBeasts/comme...</td>\n",
       "      <td>1559450612.0</td>\n",
       "    </tr>\n",
       "    <tr>\n",
       "      <th>13</th>\n",
       "      <td>CubanPete18</td>\n",
       "      <td>1559432978</td>\n",
       "      <td>At a certain point in the film, Krall refers t...</td>\n",
       "      <td>FantasticBeasts</td>\n",
       "      <td>Question about Dumbledore in The Crimes of Gri...</td>\n",
       "      <td>https://www.reddit.com/r/FantasticBeasts/comme...</td>\n",
       "      <td>1559404178.0</td>\n",
       "    </tr>\n",
       "  </tbody>\n",
       "</table>\n",
       "</div>"
      ],
      "text/plain": [
       "              author  created_utc  \\\n",
       "6           Zivio104   1559566660   \n",
       "9   MetalVenomLudens   1559486360   \n",
       "10  MetalVenomLudens   1559486294   \n",
       "11     Stephen111110   1559479412   \n",
       "13       CubanPete18   1559432978   \n",
       "\n",
       "                                             selftext        subreddit  \\\n",
       "6   Don't get me wrong I really like this series d...  FantasticBeasts   \n",
       "9   Mods can remove this if they feel this post is...  FantasticBeasts   \n",
       "10  Mods can remove this if they feel this post is...  FantasticBeasts   \n",
       "11  I wont go too deep incase of spoilers. But.\\nT...  FantasticBeasts   \n",
       "13  At a certain point in the film, Krall refers t...  FantasticBeasts   \n",
       "\n",
       "                                                title  \\\n",
       "6                 The problem I have with this series   \n",
       "9   Should we create a Discord server for Fantasti...   \n",
       "10  Should we create a Discord server for Fantasti...   \n",
       "11                                 Theory on Credence   \n",
       "13  Question about Dumbledore in The Crimes of Gri...   \n",
       "\n",
       "                                                  url       created  \n",
       "6   https://www.reddit.com/r/FantasticBeasts/comme...  1559537860.0  \n",
       "9   https://www.reddit.com/r/FantasticBeasts/comme...  1559457560.0  \n",
       "10  https://www.reddit.com/r/FantasticBeasts/comme...  1559457494.0  \n",
       "11  https://www.reddit.com/r/FantasticBeasts/comme...  1559450612.0  \n",
       "13  https://www.reddit.com/r/FantasticBeasts/comme...  1559404178.0  "
      ]
     },
     "execution_count": 6,
     "metadata": {},
     "output_type": "execute_result"
    }
   ],
   "source": [
    "fb_df = pd.read_csv(\"../data/fantasticbeasts.csv\", encoding=\"utf-8\", index_col=0)\n",
    "fb_df.head()"
   ]
  },
  {
   "cell_type": "code",
   "execution_count": 7,
   "metadata": {},
   "outputs": [
    {
     "data": {
      "text/plain": [
       "(1221, 7)"
      ]
     },
     "execution_count": 7,
     "metadata": {},
     "output_type": "execute_result"
    }
   ],
   "source": [
    "fb_df.shape"
   ]
  },
  {
   "cell_type": "code",
   "execution_count": 8,
   "metadata": {},
   "outputs": [],
   "source": [
    "# Change created_utc column to datetime datetime datatype\n",
    "fb_df['created_utc'] = pd.to_datetime(fb_df['created_utc'],unit='s')"
   ]
  },
  {
   "cell_type": "code",
   "execution_count": 9,
   "metadata": {},
   "outputs": [],
   "source": [
    "# Add a binary label \n",
    "fb_df['is_hp'] = 0\n",
    "# Remove redundant datetime column\n",
    "fb_df.drop('created',axis=1,inplace=True)"
   ]
  },
  {
   "cell_type": "code",
   "execution_count": 10,
   "metadata": {},
   "outputs": [],
   "source": [
    "df = pd.concat([hp_df, fb_df], ignore_index=True)"
   ]
  },
  {
   "cell_type": "code",
   "execution_count": 11,
   "metadata": {},
   "outputs": [
    {
     "data": {
      "text/plain": [
       "(4106, 7)"
      ]
     },
     "execution_count": 11,
     "metadata": {},
     "output_type": "execute_result"
    }
   ],
   "source": [
    "df.shape"
   ]
  },
  {
   "cell_type": "code",
   "execution_count": 12,
   "metadata": {},
   "outputs": [],
   "source": [
    "df = df.query(\"subreddit == 'FantasticBeasts' | subreddit == 'harrypotter'\")"
   ]
  },
  {
   "cell_type": "code",
   "execution_count": 13,
   "metadata": {},
   "outputs": [],
   "source": [
    "df = df.reset_index(drop=True)"
   ]
  },
  {
   "cell_type": "code",
   "execution_count": 14,
   "metadata": {
    "scrolled": true
   },
   "outputs": [
    {
     "data": {
      "text/plain": [
       "harrypotter        2885\n",
       "FantasticBeasts    1127\n",
       "Name: subreddit, dtype: int64"
      ]
     },
     "execution_count": 14,
     "metadata": {},
     "output_type": "execute_result"
    }
   ],
   "source": [
    "df['subreddit'].value_counts()"
   ]
  },
  {
   "cell_type": "markdown",
   "metadata": {},
   "source": [
    "## Tokenize titles and posts\n",
    "\n",
    "1. Create a concatenated string of titles and posts "
   ]
  },
  {
   "cell_type": "code",
   "execution_count": 15,
   "metadata": {},
   "outputs": [],
   "source": [
    "df['all_text'] = df['title'] + ' ' + df['selftext']"
   ]
  },
  {
   "cell_type": "code",
   "execution_count": 16,
   "metadata": {},
   "outputs": [],
   "source": [
    "rt = RegexpTokenizer(r\"[\\w\\/\\']+\") # regex to include words, slash characters for urls, apostrophes"
   ]
  },
  {
   "cell_type": "code",
   "execution_count": 17,
   "metadata": {},
   "outputs": [
    {
     "data": {
      "text/plain": [
       "825     Favorite character Whose everyone’s favorite c...\n",
       "44      I forgot how amazing the books are I reread th...\n",
       "3265    Muggles, no maj, and “can’t spells” What did e...\n",
       "2026    Need Audible suggestions? So I’ve re-listened ...\n",
       "529     Relative Strength of Voldemort's Horcruxes If ...\n",
       "Name: all_text, dtype: object"
      ]
     },
     "execution_count": 17,
     "metadata": {},
     "output_type": "execute_result"
    }
   ],
   "source": [
    "df.all_text.sample(5)"
   ]
  },
  {
   "cell_type": "markdown",
   "metadata": {},
   "source": [
    "2. Tokenize the new feature (combination of title and body text) by removing the weird HTML formatted characters and numbers"
   ]
  },
  {
   "cell_type": "code",
   "execution_count": null,
   "metadata": {},
   "outputs": [],
   "source": [
    "for i, text in enumerate(df.all_text): # for each string in our combined column\n",
    "    text_loop = text.replace('amp;',' ')\n",
    "    text_loop = text_loop.replace('x200B;',' ') \n",
    "    text_loop = text_loop.replace('nbsp;',' ')\n",
    "    text_loop = text_loop.replace('https',' ')\n",
    "    df.all_text.iloc[i] = text_loop.replace('\\n',' ').strip()"
   ]
  },
  {
   "cell_type": "code",
   "execution_count": null,
   "metadata": {},
   "outputs": [],
   "source": [
    "text_tokens = []  \n",
    "\n",
    "for i in range(len(df.all_text)):\n",
    "    loop_tokens = rt.tokenize(df.all_text.iloc[i].lower()) \n",
    "    for j, token in enumerate(loop_tokens):\n",
    "        if re.match(r\"\\d+[\\w]*\", token): #remove numbers\n",
    "            loop_tokens[j] = ''\n",
    "        if ('harry' in token)|('potter' in token)|('fantastic' in token)|('beasts' in token):\n",
    "            loop_tokens[j] = ''\n",
    "    text_tokens.append(loop_tokens)                   "
   ]
  },
  {
   "cell_type": "code",
   "execution_count": 20,
   "metadata": {},
   "outputs": [],
   "source": [
    "# create a list of string to store the tokenized text for vectorizer\n",
    "posts_list = []\n",
    "\n",
    "for post in text_tokens:\n",
    "    posts_list.append(' '.join(post))"
   ]
  },
  {
   "cell_type": "markdown",
   "metadata": {},
   "source": [
    "## Stem tokens\n",
    "\n",
    "Improve the modeling ability of the strings by using a stemmer, which trims characters from each word to convert it to a stem. Words will register as equivalent during feature extraction if they share a stem (i.e., computer,computing,computed all result in a stem of comput)."
   ]
  },
  {
   "cell_type": "code",
   "execution_count": 21,
   "metadata": {},
   "outputs": [],
   "source": [
    "# Instantiate object of class PorterStemmer.\n",
    "p_stemmer = PorterStemmer()"
   ]
  },
  {
   "cell_type": "code",
   "execution_count": 22,
   "metadata": {},
   "outputs": [
    {
     "data": {
      "text/plain": [
       "['add', 'ne', 'guy', \"let'\", 'be', 'friend', 'in', '', '', 'wizard']"
      ]
     },
     "execution_count": 22,
     "metadata": {},
     "output_type": "execute_result"
    }
   ],
   "source": [
    "# Stem tokens.\n",
    "posts_st = [] # posts tokenized stemmed\n",
    "\n",
    "for post in text_tokens:\n",
    "    post_st = [] # empty post stems\n",
    "    for word in post:\n",
    "        word_st = p_stemmer.stem(word) # get stem of word\n",
    "        post_st.append(word_st) # add to post list\n",
    "    posts_st.append(post_st)  # add post list to stem matrix\n",
    "    \n",
    "posts_st[1][:10]"
   ]
  },
  {
   "cell_type": "markdown",
   "metadata": {},
   "source": [
    "A bit weird that 'harry' turns into 'harri'. But this shouldn't affect the modeling. Let's check out the model accuracy later."
   ]
  },
  {
   "cell_type": "code",
   "execution_count": 23,
   "metadata": {},
   "outputs": [],
   "source": [
    "# create a list of string to store the tokenized stems for vectorizer\n",
    "posts_st_list = []\n",
    "\n",
    "for post in posts_st:\n",
    "    posts_st_list.append(' '.join(post))"
   ]
  },
  {
   "cell_type": "markdown",
   "metadata": {},
   "source": [
    "## Lemmatize tokens\n",
    "\n",
    "Try lemmatizing as well. It is however arguable here whether stemming/lemmatizing would add value to the models at all, since J.K. Rowling coined a lot of new words from old English in the novels, which are quite important in differentiating the theme. It is suspected that stemming/lemmatizing might actually do the opposite by taking out the distintiveness.\n",
    "\n",
    "Therefore, we will just create these tokens and assess each type of tokens separately and see if they are going to help improve the initial model."
   ]
  },
  {
   "cell_type": "code",
   "execution_count": 24,
   "metadata": {},
   "outputs": [],
   "source": [
    "# Instantiate lemmatizer. \n",
    "p_lemmatizer = WordNetLemmatizer()"
   ]
  },
  {
   "cell_type": "code",
   "execution_count": 25,
   "metadata": {},
   "outputs": [
    {
     "data": {
      "text/plain": [
       "['add', 'ne', 'guy', \"let's\", 'be', 'friend', 'in', '', '', 'wizard']"
      ]
     },
     "execution_count": 25,
     "metadata": {},
     "output_type": "execute_result"
    }
   ],
   "source": [
    "# Lemmatize tokens.\n",
    "posts_lm = [] # posts tokenized stemmed\n",
    "\n",
    "for post in text_tokens:\n",
    "    post_lm = [] # empty post stems\n",
    "    for word in post:\n",
    "        word_lm = p_lemmatizer.lemmatize(word) # get stem of word\n",
    "        post_lm.append(word_lm) # add to post list\n",
    "    posts_lm.append(post_lm)  # add post list to stem matrix\n",
    "    \n",
    "posts_lm[1][:10]"
   ]
  },
  {
   "cell_type": "markdown",
   "metadata": {},
   "source": [
    "Lemmatization looks to generate more semantically sensible tokens, as compared to stemming."
   ]
  },
  {
   "cell_type": "code",
   "execution_count": 26,
   "metadata": {},
   "outputs": [],
   "source": [
    "# create a list of string to store the lemmatized tokens for vectorizer\n",
    "posts_lm_list = []\n",
    "\n",
    "for post in posts_lm:\n",
    "    posts_lm_list.append(' '.join(post))"
   ]
  },
  {
   "cell_type": "markdown",
   "metadata": {},
   "source": [
    "## Store original tokens for posts, stemmed and lemmatized to the dataframes"
   ]
  },
  {
   "cell_type": "code",
   "execution_count": 27,
   "metadata": {},
   "outputs": [],
   "source": [
    "df_model = pd.DataFrame(data=[posts_list, posts_st_list, posts_st_list], index=['post','post_st','post_lm'])"
   ]
  },
  {
   "cell_type": "code",
   "execution_count": 28,
   "metadata": {},
   "outputs": [],
   "source": [
    "df_model = df_model.T"
   ]
  },
  {
   "cell_type": "code",
   "execution_count": 29,
   "metadata": {},
   "outputs": [],
   "source": [
    "df_model['all_text'] = df['all_text']\n",
    "df_model['is_hp'] = df['is_hp']"
   ]
  },
  {
   "cell_type": "code",
   "execution_count": 30,
   "metadata": {},
   "outputs": [
    {
     "data": {
      "text/html": [
       "<div>\n",
       "<style scoped>\n",
       "    .dataframe tbody tr th:only-of-type {\n",
       "        vertical-align: middle;\n",
       "    }\n",
       "\n",
       "    .dataframe tbody tr th {\n",
       "        vertical-align: top;\n",
       "    }\n",
       "\n",
       "    .dataframe thead th {\n",
       "        text-align: right;\n",
       "    }\n",
       "</style>\n",
       "<table border=\"1\" class=\"dataframe\">\n",
       "  <thead>\n",
       "    <tr style=\"text-align: right;\">\n",
       "      <th></th>\n",
       "      <th>post</th>\n",
       "      <th>post_st</th>\n",
       "      <th>post_lm</th>\n",
       "      <th>all_text</th>\n",
       "      <th>is_hp</th>\n",
       "    </tr>\n",
       "  </thead>\n",
       "  <tbody>\n",
       "    <tr>\n",
       "      <th>0</th>\n",
       "      <td>question about communication if wizards and wi...</td>\n",
       "      <td>question about commun if wizard and witch can ...</td>\n",
       "      <td>question about commun if wizard and witch can ...</td>\n",
       "      <td>Question about communication If wizards and wi...</td>\n",
       "      <td>1</td>\n",
       "    </tr>\n",
       "    <tr>\n",
       "      <th>1</th>\n",
       "      <td>add ne guys let's be friends in   wizards unit...</td>\n",
       "      <td>add ne guy let' be friend in   wizard unit my ...</td>\n",
       "      <td>add ne guy let' be friend in   wizard unit my ...</td>\n",
       "      <td>Add ne guys Let's be Friends in Harry Potter: ...</td>\n",
       "      <td>1</td>\n",
       "    </tr>\n",
       "    <tr>\n",
       "      <th>2</th>\n",
       "      <td>i just learned that ginny weasley's patronus i...</td>\n",
       "      <td>i just learn that ginni weasley' patronu is a ...</td>\n",
       "      <td>i just learn that ginni weasley' patronu is a ...</td>\n",
       "      <td>I just learned that Ginny Weasley's patronus i...</td>\n",
       "      <td>1</td>\n",
       "    </tr>\n",
       "    <tr>\n",
       "      <th>3</th>\n",
       "      <td>did dumbledore know lockhart was a fraud when ...</td>\n",
       "      <td>did dumbledor know lockhart wa a fraud when he...</td>\n",
       "      <td>did dumbledor know lockhart wa a fraud when he...</td>\n",
       "      <td>Did Dumbledore know Lockhart was a fraud when ...</td>\n",
       "      <td>1</td>\n",
       "    </tr>\n",
       "    <tr>\n",
       "      <th>4</th>\n",
       "      <td>wizards unite friend code add me on the game...</td>\n",
       "      <td>wizard unit friend code add me on the game  ...</td>\n",
       "      <td>wizard unit friend code add me on the game  ...</td>\n",
       "      <td>Harry Potter Wizards Unite Friend code Add me ...</td>\n",
       "      <td>1</td>\n",
       "    </tr>\n",
       "  </tbody>\n",
       "</table>\n",
       "</div>"
      ],
      "text/plain": [
       "                                                post  \\\n",
       "0  question about communication if wizards and wi...   \n",
       "1  add ne guys let's be friends in   wizards unit...   \n",
       "2  i just learned that ginny weasley's patronus i...   \n",
       "3  did dumbledore know lockhart was a fraud when ...   \n",
       "4    wizards unite friend code add me on the game...   \n",
       "\n",
       "                                             post_st  \\\n",
       "0  question about commun if wizard and witch can ...   \n",
       "1  add ne guy let' be friend in   wizard unit my ...   \n",
       "2  i just learn that ginni weasley' patronu is a ...   \n",
       "3  did dumbledor know lockhart wa a fraud when he...   \n",
       "4    wizard unit friend code add me on the game  ...   \n",
       "\n",
       "                                             post_lm  \\\n",
       "0  question about commun if wizard and witch can ...   \n",
       "1  add ne guy let' be friend in   wizard unit my ...   \n",
       "2  i just learn that ginni weasley' patronu is a ...   \n",
       "3  did dumbledor know lockhart wa a fraud when he...   \n",
       "4    wizard unit friend code add me on the game  ...   \n",
       "\n",
       "                                            all_text  is_hp  \n",
       "0  Question about communication If wizards and wi...      1  \n",
       "1  Add ne guys Let's be Friends in Harry Potter: ...      1  \n",
       "2  I just learned that Ginny Weasley's patronus i...      1  \n",
       "3  Did Dumbledore know Lockhart was a fraud when ...      1  \n",
       "4  Harry Potter Wizards Unite Friend code Add me ...      1  "
      ]
     },
     "execution_count": 30,
     "metadata": {},
     "output_type": "execute_result"
    }
   ],
   "source": [
    "df_model.head()"
   ]
  },
  {
   "cell_type": "markdown",
   "metadata": {},
   "source": [
    "## Train/Test split"
   ]
  },
  {
   "cell_type": "code",
   "execution_count": 31,
   "metadata": {},
   "outputs": [],
   "source": [
    "X = df_model[['post','post_st','post_lm','all_text']]\n",
    "y = df_model['is_hp']"
   ]
  },
  {
   "cell_type": "code",
   "execution_count": 32,
   "metadata": {},
   "outputs": [],
   "source": [
    "# Split train/test set with 70/30 ratio\n",
    "X_train, X_test, y_train, y_test = train_test_split(X, y, test_size=0.3, random_state=42, stratify=y)"
   ]
  },
  {
   "cell_type": "code",
   "execution_count": 33,
   "metadata": {},
   "outputs": [],
   "source": [
    "y_train = pd.DataFrame(y_train, columns=['is_hp'])\n",
    "y_test = pd.DataFrame(y_test, columns=['is_hp'])"
   ]
  },
  {
   "cell_type": "code",
   "execution_count": 34,
   "metadata": {},
   "outputs": [],
   "source": [
    "X_train.to_csv('../tokenized_data/X_train.csv', index=True)\n",
    "X_test.to_csv('../tokenized_data/X_test.csv', index=True)\n",
    "y_train.to_csv('../tokenized_data/y_train.csv', index=True)\n",
    "y_test.to_csv('../tokenized_data/y_test.csv', index=True)"
   ]
  },
  {
   "cell_type": "code",
   "execution_count": null,
   "metadata": {},
   "outputs": [],
   "source": []
  }
 ],
 "metadata": {
  "kernelspec": {
   "display_name": "Python 3",
   "language": "python",
   "name": "python3"
  },
  "language_info": {
   "codemirror_mode": {
    "name": "ipython",
    "version": 3
   },
   "file_extension": ".py",
   "mimetype": "text/x-python",
   "name": "python",
   "nbconvert_exporter": "python",
   "pygments_lexer": "ipython3",
   "version": "3.6.8"
  }
 },
 "nbformat": 4,
 "nbformat_minor": 2
}
