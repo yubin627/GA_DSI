{
 "cells": [
  {
   "cell_type": "code",
   "execution_count": 1,
   "metadata": {},
   "outputs": [],
   "source": [
    "import os\n",
    "import sys\n",
    "import numpy as np\n",
    "from scipy.spatial.distance import cdist\n",
    "from torch.autograd import Variable\n",
    "from config import *\n",
    "from utils import *\n",
    "from data import Fashion_attr_prediction\n",
    "from net import f_model, c_model, p_model\n",
    "from sklearn.externals import joblib"
   ]
  },
  {
   "cell_type": "code",
   "execution_count": 2,
   "metadata": {},
   "outputs": [],
   "source": [
    "@timer_with_task(\"Loading feature database\")\n",
    "def load_feat_db(pca=False):\n",
    "    if pca == True:\n",
    "        feat_all = os.path.join(FEATURES_DIR, 'all_feat_pca.npy') \n",
    "        feat_list = os.path.join(FEATURES_DIR, 'all_feat.list')\n",
    "        color_feat = os.path.join(FEATURES_DIR, 'all_color_feat.npy')\n",
    "\n",
    "    else:\n",
    "        feat_all = os.path.join(FEATURES_DIR, 'all_feat.npy') \n",
    "        feat_list = os.path.join(FEATURES_DIR, 'all_feat.list')\n",
    "        color_feat = os.path.join(FEATURES_DIR, 'all_color_feat.npy')\n",
    "    \n",
    "    if not os.path.isfile(feat_list) or not os.path.isfile(feat_all) or not os.path.isfile(color_feat):\n",
    "        print(\"No feature db file! Please run feature_extraction notebook first.\")\n",
    "        return\n",
    "    deep_feats = np.load(feat_all)\n",
    "    color_feats = np.load(color_feat)\n",
    "    with open(feat_list) as f:\n",
    "        labels = list(map(lambda x: x.strip(), f.readlines()))\n",
    "    return deep_feats, color_feats, labels"
   ]
  },
  {
   "cell_type": "code",
   "execution_count": 3,
   "metadata": {},
   "outputs": [],
   "source": [
    "def read_lines(path):\n",
    "    with open(path) as fin:\n",
    "        lines = fin.readlines()[2:]\n",
    "        lines = list(filter(lambda x: len(x) > 0, lines))\n",
    "        names = list(map(lambda x: x.strip().split()[0], lines))\n",
    "    return names"
   ]
  },
  {
   "cell_type": "code",
   "execution_count": 4,
   "metadata": {},
   "outputs": [],
   "source": [
    "@timer_with_task(\"Loading feature K-means model\")\n",
    "def load_kmeans_model():\n",
    "    clf_model_path = os.path.join(KMEANS_DIR, r'kmeans.m')\n",
    "    clf = joblib.load(clf_model_path)\n",
    "    return clf"
   ]
  },
  {
   "cell_type": "code",
   "execution_count": 5,
   "metadata": {},
   "outputs": [],
   "source": [
    "def get_top_n(dist, labels, retrieval_top_n):\n",
    "    ind = np.argpartition(dist, retrieval_top_n)[0:retrieval_top_n]\n",
    "    ret = list(zip([labels[i] for i in ind], dist[ind]))\n",
    "    ret = sorted(ret, key=lambda x: x[1], reverse=False)\n",
    "    print(ret)\n",
    "    return ret"
   ]
  },
  {
   "cell_type": "code",
   "execution_count": 6,
   "metadata": {},
   "outputs": [],
   "source": [
    "def get_similarity(feature, feats, metric='cosine'):\n",
    "    dist = cdist(np.expand_dims(feature, axis=0), feats, metric)[0]\n",
    "    #print(dist)\n",
    "    return dist"
   ]
  },
  {
   "cell_type": "code",
   "execution_count": 7,
   "metadata": {},
   "outputs": [],
   "source": [
    "def get_deep_color_top_n(features, deep_feats, color_feats, labels, retrieval_top_n=5):\n",
    "    deep_scores = get_similarity(features[0], deep_feats, DISTANCE_METRIC[0])\n",
    "    color_scores = get_similarity(features[1], color_feats, DISTANCE_METRIC[1])\n",
    "    results = get_top_n(deep_scores + color_scores * COLOR_WEIGHT, labels, retrieval_top_n)\n",
    "    return results"
   ]
  },
  {
   "cell_type": "code",
   "execution_count": 8,
   "metadata": {},
   "outputs": [],
   "source": [
    "@timer_with_task(\"Doing naive query\")\n",
    "def naive_query(features, deep_feats, color_feats, labels, retrieval_top_n=5):\n",
    "    results = get_deep_color_top_n(features, deep_feats, color_feats, labels, retrieval_top_n)\n",
    "    return results"
   ]
  },
  {
   "cell_type": "code",
   "execution_count": 9,
   "metadata": {},
   "outputs": [],
   "source": [
    "@timer_with_task(\"Doing query with k-Means\")\n",
    "def kmeans_query(clf, features, deep_feats, color_feats, labels, retrieval_top_n=5):\n",
    "    label = clf.predict(features[0].reshape(1, features[0].shape[0]))\n",
    "    ind = np.where(clf.labels_ == label)\n",
    "    d_feats = deep_feats[ind]\n",
    "    c_feats = color_feats[ind]\n",
    "    n_labels = list(np.array(labels)[ind])\n",
    "    results = get_deep_color_top_n(features, d_feats, c_feats, n_labels, retrieval_top_n)\n",
    "    return results"
   ]
  },
  {
   "cell_type": "code",
   "execution_count": 13,
   "metadata": {},
   "outputs": [],
   "source": [
    "@timer_with_task(\"Extracting image feature from features npy file\")\n",
    "def dump_single_feature_npy(img_path):\n",
    "    deep_feats, color_feats, labels = load_feat_db(pca=True)\n",
    "    \n",
    "    deep_feats = np.array(deep_feats)\n",
    "    color_feats = np.array(color_feats)\n",
    "    labels = np.array(labels)\n",
    "\n",
    "    deep_feat = deep_feats[labels == img_path][0,:]\n",
    "    color_feat = color_feats[labels == img_path][0,:]\n",
    "\n",
    "    return deep_feat, color_feat"
   ]
  },
  {
   "cell_type": "code",
   "execution_count": 14,
   "metadata": {},
   "outputs": [],
   "source": [
    "def visualize(original, result, query_type, cols=1):\n",
    "    import matplotlib\n",
    "    matplotlib.use('Agg')\n",
    "    import matplotlib.pyplot as plt\n",
    "    import cv2\n",
    "    n_images = len(result) + 1\n",
    "    titles = [\"Original\"] + [\"Score: {:.4f}\".format(v) for k, v in result]\n",
    "    images = [original] + [k for k, v in result]\n",
    "    mod_full_path = lambda x: os.path.join(DATASET_BASE, x) \n",
    "    images = list(map(mod_full_path, images))\n",
    "    images = list(map(lambda x: cv2.cvtColor(cv2.imread(x), cv2.COLOR_BGR2RGB), images))\n",
    "    fig = plt.figure()\n",
    "    for n, (image, title) in enumerate(zip(images, titles)):\n",
    "        a = fig.add_subplot(cols, np.ceil(n_images / float(cols)), n + 1)\n",
    "        plt.imshow(image)\n",
    "        a.set_title(title)\n",
    "    fig.set_size_inches(np.array(fig.get_size_inches()) * n_images * 0.25)\n",
    "    plt.show()\n",
    "    #plt.savefig('output/' + str(query_type) + '_recommendation.png') #added output image"
   ]
  },
  {
   "cell_type": "code",
   "execution_count": 15,
   "metadata": {},
   "outputs": [
    {
     "name": "stdout",
     "output_type": "stream",
     "text": [
      "Loading feature database...\n",
      "Loading feature database Done. Time: 0.090 sec\n",
      "Extracting image feature from features npy file...\n",
      "Loading feature database...\n",
      "Loading feature database Done. Time: 0.087 sec\n",
      "Extracting image feature from features npy file Done. Time: 0.174 sec\n",
      "Doing naive query...\n",
      "[('img/Sheer_Pleated-Front_Blouse/img_00000005.jpg', 0.0), ('img/Chiffon_Twist-Front_Top/img_00000001.jpg', 2.1166616989189913), ('img/Round-Hem_Brushstroke_Print_Blazer/img_00000043.jpg', 2.160589315290756), ('img/Tulip_Front_Blazer/img_00000083.jpg', 2.2502405064354054), ('img/Tulip_Back_Crepe_Blouse/img_00000095.jpg', 2.2826794405176387)]\n",
      "Doing naive query Done. Time: 0.020 sec\n",
      "Naive query result: [('img/Sheer_Pleated-Front_Blouse/img_00000005.jpg', 0.0), ('img/Chiffon_Twist-Front_Top/img_00000001.jpg', 2.1166616989189913), ('img/Round-Hem_Brushstroke_Print_Blazer/img_00000043.jpg', 2.160589315290756), ('img/Tulip_Front_Blazer/img_00000083.jpg', 2.2502405064354054), ('img/Tulip_Back_Crepe_Blouse/img_00000095.jpg', 2.2826794405176387)]\n"
     ]
    }
   ],
   "source": [
    "if __name__ == \"__main__\":\n",
    "    #change the input of example below to play around with the results\n",
    "    example = \"img/Sheer_Pleated-Front_Blouse/img_00000005.jpg\"\n",
    "    \n",
    "    deep_feats, color_feats, labels = load_feat_db(pca=True)\n",
    "    f = dump_single_feature_npy(example) \n",
    "\n",
    "    if any(list(map(lambda x: x is None, f))):\n",
    "        print(\"Input feature is None\")\n",
    "        exit()\n",
    "    \n",
    "    result = naive_query(f, deep_feats, color_feats, labels, 5)\n",
    "    print(\"Naive query result:\", result)\n",
    "    visualize(example, result, 'naive')\n",
    "    \n",
    "    '''\n",
    "    #Unquote this block if you wish to run KMeans query\n",
    "    #which corresponds to option 2 in the feature_extraction notebook \n",
    "    \n",
    "    clf = load_kmeans_model()\n",
    "    result_kmeans = kmeans_query(clf, f, deep_feats, color_feats, labels, 5)\n",
    "    visualize(example, result_kmeans, 'kmeans')\n",
    "    print(\"K-Means query result:\", result_kmeans)\n",
    "    '''"
   ]
  },
  {
   "cell_type": "code",
   "execution_count": null,
   "metadata": {},
   "outputs": [],
   "source": []
  }
 ],
 "metadata": {
  "kernelspec": {
   "display_name": "Python 3",
   "language": "python",
   "name": "python3"
  },
  "language_info": {
   "codemirror_mode": {
    "name": "ipython",
    "version": 3
   },
   "file_extension": ".py",
   "mimetype": "text/x-python",
   "name": "python",
   "nbconvert_exporter": "python",
   "pygments_lexer": "ipython3",
   "version": "3.6.5"
  }
 },
 "nbformat": 4,
 "nbformat_minor": 2
}
